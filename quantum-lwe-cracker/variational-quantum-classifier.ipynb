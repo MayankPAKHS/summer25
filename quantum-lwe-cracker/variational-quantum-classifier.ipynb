{
 "cells": [
  {
   "cell_type": "markdown",
   "id": "a63eacce",
   "metadata": {},
   "source": [
    "## Variational Quantum Classifier"
   ]
  },
  {
   "cell_type": "markdown",
   "id": "eff21073",
   "metadata": {},
   "source": [
    "This notebook implements a MSE-based Variational Quantum Classifier to predict bits encrypted through Learning With Errors (a component of Kyber). The model uses Stochastic Gradient Descent."
   ]
  },
  {
   "cell_type": "markdown",
   "id": "c8236646",
   "metadata": {},
   "source": [
    "### 🧠Table of Contents:\n",
    " 0. 🧮[Data Generation](data-gen/pqc-math-sim.cpp) <br/>\n",
    "    *Publicly acessible LWE data and encoded bit algebraic simulator*\n",
    "\n",
    " 1. 🛠️[Initialization and Preprocessing](#initialization-and-preprocessing) <br/>\n",
    "    *Train-test split and other features*\n",
    "\n",
    " 2. ⚛️[Define our Quantum Ansatz](#define-our-quantum-simulation) <br/>\n",
    "    *The circuit employs a Basic and Strong Entangler layer*\n",
    "\n",
    " 3. 📉[Cost, Accuracy, and Confusion](#cost-accuracy-and-confusion) <br/>\n",
    "    *Uses Mean Squared Error, with suboptimal hybrid/full BCE options*\n",
    "\n",
    " 4. 📊[Graphing Functionality](#graphing-functionality) <br/>\n",
    "    *Uses PlotLy to generate cost and accuracy graphs*\n",
    "\n",
    " 5. 🔁[Stochastic Gradient Descent](#stochastic-gradient-descent) <br/>\n",
    "    *Implementation of random-sample SGD with weight initializations*\n",
    "\n",
    " 6. 🗃️[(Deprecated) Extra Backups](#deprecated-extra-backups) <br/>\n",
    "    *Backing up this notebook and the cost files*\n",
    "\n",
    " 7. 🏔️[Training model on new terrain](#training-model-on-new-terrain) <br/>\n",
    "    *Varying RNG, keys, and increased test sizes reveal decreased generalizability.*\n",
    "\n",
    " 8. 🖋️[Changelog](#changelog) <br/>\n",
    "    *My insights and interpretations, as well as documented daily progress.*"
   ]
  },
  {
   "cell_type": "markdown",
   "id": "8138380a",
   "metadata": {},
   "source": [
    "### Initialization and Preprocessing"
   ]
  },
  {
   "cell_type": "markdown",
   "id": "95501ced",
   "metadata": {},
   "source": [
    "We start by loading the neccesary libraries and variables for the program to function smoothly."
   ]
  },
  {
   "cell_type": "code",
   "execution_count": 1,
   "id": "fcf63601",
   "metadata": {},
   "outputs": [],
   "source": [
    "from pennylane import numpy as np\n",
    "import plotly.graph_objects as go\n",
    "import matplotlib.pyplot as plt\n",
    "from datetime  import datetime\n",
    "import cloudpickle as cp\n",
    "import pennylane as qml\n",
    "import pandas as pd\n",
    "import random\n",
    "import copy\n",
    "import os\n",
    "df = pd.read_csv('data-gen/default.csv')\n",
    "pi = np.pi"
   ]
  },
  {
   "cell_type": "markdown",
   "id": "dddaeeb5",
   "metadata": {},
   "source": [
    "Variational Quantum Classifiers rely on randomness for a variety of things. Let's make sure the randomness isn't too random, so that re-testing and other things are more stable."
   ]
  },
  {
   "cell_type": "code",
   "execution_count": 2,
   "id": "6b59eaa1",
   "metadata": {},
   "outputs": [],
   "source": [
    "random.seed(42)\n",
    "np.random.seed(42)"
   ]
  },
  {
   "cell_type": "markdown",
   "id": "44770311",
   "metadata": {},
   "source": [
    "Just like classical ML models (and our XGBoost model), we'll make the data into a train-test split."
   ]
  },
  {
   "cell_type": "code",
   "execution_count": 3,
   "id": "072c0eb5",
   "metadata": {},
   "outputs": [],
   "source": [
    "n_rows = 8000\n",
    "X_train = df.iloc[0:n_rows, 0:5].to_numpy()\n",
    "X_test  = df.iloc[n_rows:, 0:5]\n",
    "Y_train = df.iloc[0:n_rows, 5].to_numpy()   # Labels the model'll run on\n",
    "Y_test  = df.iloc[n_rows:, 5]               # Labels the model'll check with"
   ]
  },
  {
   "cell_type": "code",
   "execution_count": 4,
   "id": "7b24ce47",
   "metadata": {},
   "outputs": [
    {
     "name": "stdout",
     "output_type": "stream",
     "text": [
      "<class 'numpy.ndarray'> (8000, 5)\n"
     ]
    }
   ],
   "source": [
    "print(type(Y_train), X_train.shape)\n"
   ]
  },
  {
   "cell_type": "markdown",
   "id": "77d6397d",
   "metadata": {},
   "source": [
    "These variables wil define the scale of normalization as such\n",
    "$$\n",
    "\\theta = \\text{scale}(x) \\in [-\\pi, \\pi], \\quad \\text{for } x \\in [a, b]\n",
    "$$"
   ]
  },
  {
   "cell_type": "code",
   "execution_count": 5,
   "id": "00cdf521",
   "metadata": {},
   "outputs": [],
   "source": [
    "coeff_max = df.iloc[:, 0:4].max().max()\n",
    "coeff_min = df.iloc[:, 0:4].min().min()\n",
    "rhs_max   = df.iloc[:, 4].max()\n",
    "rhs_min   = df.iloc[:, 4].min()"
   ]
  },
  {
   "cell_type": "markdown",
   "id": "9cc00ded",
   "metadata": {},
   "source": [
    "Before encoding the data, let's load the data produced by `pqc-math-sim.cpp` as follows:"
   ]
  },
  {
   "cell_type": "code",
   "execution_count": 6,
   "id": "1e77a25c",
   "metadata": {},
   "outputs": [],
   "source": [
    "def generate_features_and_labels(index):\n",
    "    features = X_train[index]\n",
    "    labels = Y_train[index]\n",
    "    return features, labels"
   ]
  },
  {
   "cell_type": "markdown",
   "id": "cf96cc2c",
   "metadata": {},
   "source": [
    "### Define our Quantum Simulation"
   ]
  },
  {
   "cell_type": "markdown",
   "id": "f748989e",
   "metadata": {},
   "source": [
    "Since we have 5 features in the CSV data, we can define a 5-qubit system (no data's loaded into it yet):\n",
    "\n",
    "$$\n",
    "\\left| \\psi_0 \\right\\rangle = \\left|0\\right\\rangle^{\\otimes 5} = \\left|0\\right\\rangle \\otimes \\left|0\\right\\rangle \\otimes \\left|0\\right\\rangle \\otimes \\left|0\\right\\rangle \\otimes \\left|0\\right\\rangle\n",
    "$$"
   ]
  },
  {
   "cell_type": "code",
   "execution_count": 7,
   "id": "d566b50b",
   "metadata": {},
   "outputs": [],
   "source": [
    "dev = qml.device('lightning.qubit', wires=5)"
   ]
  },
  {
   "cell_type": "markdown",
   "id": "8ec00b1c",
   "metadata": {},
   "source": [
    "Now let's make some data to translate a `pqc-bits-data.out.csv feature` into $\\theta \\deg$ that's readable by `pennylane`.\n",
    "\n",
    "To start, we will have to define a normalization function that translates $|[a, b] \\xrightarrow{normalize} [\\Delta x, \\Delta y]$"
   ]
  },
  {
   "cell_type": "code",
   "execution_count": 8,
   "id": "5ef0639c",
   "metadata": {},
   "outputs": [],
   "source": [
    "def normalize(range_start, range_end, data_point, end_param=pi):\n",
    "    total_range = range_end - range_start\n",
    "    shifted = data_point - range_start\n",
    "    fraction = shifted / total_range\n",
    "    if end_param == np.pi:\n",
    "        return (fraction * 2 * end_param) - np.pi\n",
    "    else:\n",
    "        return (fraction * end_param)"
   ]
  },
  {
   "cell_type": "markdown",
   "id": "27061f4f",
   "metadata": {},
   "source": [
    "We define a `circuit`, which uses $R_y(\\theta)$ to encode data, where $\\theta$ is the numerical feature represented in radians. So like $$|0\\rangle \\xrightarrow{R_y(\\theta)} |\\Delta\\rangle$$ for each qubit in the multi-qubit system.\n",
    " - While defining, we must consider the normalization of each feature into the $\\theta \\in [0, 2\\pi]$ format, as well as the Ansatz, which links things together; here we are using `qml.templates.StronglyEntanglingLayers`\n",
    " - The function returns a classification of $\\langle Z \\rangle:Z ∈ [−1, 1]$ with confidence - so, if the output's closer to $-1$, it's most likely that `actual_bit` is $0$, and vice-versa.\n",
    "\n",
    "\n",
    "<details>\n",
    "<summary>Old circuit code</summary>\n",
    "\n",
    "```python\n",
    "@qml.qnode(dev)\n",
    "def old_circuit(parameters):\n",
    "    for feature in range(len(features)):\n",
    "        if 0 <= feature < 4:\n",
    "            qml.RY(normalize(-42, 42, features[feature]), wires=feature)\n",
    "        elif feature == 4:\n",
    "            qml.RY(normalize(0, 35, features[feature]), wires=feature)\n",
    "    qml.templates.StronglyEntanglingLayers(weights=parameters, wires=range(5))\n",
    "    return qml.expval(qml.Z(0))\n",
    "```\n",
    "\n",
    "Note: There was a feature-based dynamic normalization which was removed (because for example, `coeff_1` and `coeff_2` should be normalized along the same interval, but they weren't, which made it harder for the model by adding noise)\n",
    "</details>\n",
    "\n"
   ]
  },
  {
   "cell_type": "code",
   "execution_count": 9,
   "id": "b6dca18f",
   "metadata": {},
   "outputs": [],
   "source": [
    "@qml.qnode(dev)\n",
    "def final_circuit(parameters, features):\n",
    "    weights_basic, weights_strong = parameters\n",
    "    for i in range(len(features)):\n",
    "        if 0 <= i <= 3:\n",
    "            qml.RY(normalize(coeff_min, coeff_max, features[i]), wires=i)\n",
    "        if i == 4:\n",
    "            qml.RY(normalize(rhs_min, rhs_max, features[i]), wires=i)\n",
    "    qml.templates.StronglyEntanglingLayers(weights=weights_strong, wires=range(5))\n",
    "    qml.templates.BasicEntanglerLayers(weights=    weights_basic, wires=range(5))\n",
    "    return qml.expval(qml.Z(0))"
   ]
  },
  {
   "cell_type": "markdown",
   "id": "b59b9fd8",
   "metadata": {},
   "source": [
    "### Cost, Accuracy, and Confusion"
   ]
  },
  {
   "cell_type": "markdown",
   "id": "182cdc4d",
   "metadata": {},
   "source": [
    "Let's define a confusion matrix, to show how confused the model is"
   ]
  },
  {
   "cell_type": "code",
   "execution_count": 10,
   "id": "6b131955",
   "metadata": {},
   "outputs": [],
   "source": [
    "confusion_matrix = [[0,0],[0,0]]"
   ]
  },
  {
   "cell_type": "markdown",
   "id": "78a041c1",
   "metadata": {},
   "source": [
    "Note that we swap out the tutorial's `circuit(theta, phi, omega)` for the externally-loaded `circuit(parameters)`"
   ]
  },
  {
   "cell_type": "markdown",
   "id": "039c66b5",
   "metadata": {},
   "source": [
    "Let's define a cost function. The tutorial uses something, but we'll be using the most common method: **Mean Squared Error**, defined as \n",
    "$$\n",
    "\\text{MSE} = \\frac{1}{n} \\sum_{i=1}^n (y_i - \\hat{y}_i)^2\n",
    "$$\n",
    "Which in implementation simplifies to\n",
    "$$\n",
    "\\text{MSE}_{simple} = |\\Delta x - x|^2\n",
    "$$\n",
    "\n",
    "Note: `qml.expval(qml.Z(0))` returns a value in $[-1, 1]$, so we normalize it to $[0, 1]$ before computing MSE against classical labels.\n",
    "\n",
    "Add\n",
    "<details>\n",
    "  <summary>Show hidden (old) cost function</summary>\n",
    "\n",
    "```python\n",
    "def cost(predicted, actual):\n",
    "    if predicted == 0:\n",
    "        nval = 0.5\n",
    "    elif 1 >= predicted > 0:\n",
    "        nval = 0.5 + (predicted / 2)\n",
    "    elif 0 >= predicted >= -1:\n",
    "        nval = abs(predicted / 2)\n",
    "    else:\n",
    "        raise ValueError(\"Not(-1, 1)\")\n",
    "    \n",
    "    return abs(nval - actual) ** 2\n",
    "```\n",
    "</details>\n",
    "\n",
    "<details>\n",
    "  <summary>Show cost function with comments</summary>\n",
    "\n",
    "```python\n",
    "def cost(predicted, actual, invert=False):\n",
    "    if use_mse:\n",
    "        return abs(normalize(-1, 1, predicted, end_param=1) - actual) ** 2\n",
    "    # return abs((1 - normalize(-1, 1, predicted, end_param=1)) - actual) ** 2\n",
    "    # predicted = round(normalize(-1, 1, predicted, end_param=1))\n",
    "    \n",
    "    # Get the real prediction, 0 - 1\n",
    "    real_predicted = normalize(\n",
    "        -1, 1, predicted, end_param=1\n",
    "    )\n",
    "\n",
    "    if invert:\n",
    "        real_predicted = 1 - real_predicted\n",
    "\n",
    "    # Confidence is how much it varies from 0. This returns the percent confidence.\n",
    "    # confidence = abs(0.5 - real_predicted) * 2\n",
    "\n",
    "    if   actual == 0:\n",
    "        # Formula: Model 1 - p(y=1)\n",
    "        confidence = np.log(1 - real_predicted)\n",
    "    elif actual == 1:\n",
    "        # Formula: Model p(y=1)\n",
    "        confidence = np.log(real_predicted)\n",
    "    return -confidence * (1 / len(X_train))\n",
    "```\n",
    "</details>"
   ]
  },
  {
   "cell_type": "code",
   "execution_count": 11,
   "id": "7827b697",
   "metadata": {},
   "outputs": [],
   "source": [
    "def cost(predicted, actual, invert=False):\n",
    "    if use_mse:\n",
    "        return abs(normalize(-1, 1, predicted, end_param=1) - actual) ** 2\n",
    "\n",
    "    real_predicted = normalize(\n",
    "        -1, 1, predicted, end_param=1\n",
    "    )\n",
    "\n",
    "    if invert:\n",
    "        real_predicted = 1 - real_predicted\n",
    "\n",
    "    if   actual == 0:\n",
    "        confidence = np.log(1 - real_predicted)\n",
    "    elif actual == 1:\n",
    "        confidence = np.log(real_predicted)\n",
    "\n",
    "    return -confidence * (1 / len(X_train))"
   ]
  },
  {
   "cell_type": "markdown",
   "id": "dc402e84",
   "metadata": {},
   "source": [
    "<details>\n",
    "  <summary>Show <code>opt.step</code> flawed code</summary>\n",
    "\n",
    "Next we set up an optimizer; PennyLane has a number of [built-in optimizers](https://pennylane.readthedocs.io/en/stable/introduction/optimizers.html). This one uses **gradient descent**, defined as:\n",
    "\n",
    "$$\n",
    "\\frac{\\partial f}{\\partial \\theta} = \\frac{f\\left(\\theta + \\frac{\\pi}{2}\\right) - f\\left(\\theta - \\frac{\\pi}{2}\\right)}{2}\n",
    "$$\n",
    "\n",
    "```python\n",
    "opt = qml.GradientDescentOptimizer(stepsize=0.1)\n",
    "```\n",
    "</details>\n",
    "<details>\n",
    "  <summary>Show old cost function(s)</summary>\n",
    "\n",
    "```python\n",
    "def cost_fn(weights, X, Y):\n",
    "    prediction = final_circuit(weights, X)\n",
    "    return cost(prediction, Y)\n",
    "\n",
    "def cost_fn(weights, X, Y):\n",
    "    # If X is 2D (batch), do full loop like before\n",
    "    if len(X.shape) == 2:\n",
    "        total_cost = 0\n",
    "        for i in range(len(X)):\n",
    "            features = X[i]\n",
    "            label = Y[i]\n",
    "            prediction = final_circuit(weights, features)\n",
    "            total_cost += cost(prediction, label)\n",
    "        return total_cost / len(X)\n",
    "    else:\n",
    "        # Single sample case for SGD\n",
    "        prediction = final_circuit(weights, X)\n",
    "        return cost(prediction, Y)\n",
    "```\n",
    "</details>\n",
    "\n",
    "We define a wrapper for `cost(predicted, actual)` where:\n",
    " - `weights` are trainable parameters to be updated\n",
    " - `X, Y` are features and labels respectively\n",
    "\n",
    "The wrapper goes over the entire dataset, uses the parameters in `weights` and the given `features` to make a prediction using `final_circuit`. Then the `cost` is calculated, and the total cost over the dataset is returned."
   ]
  },
  {
   "cell_type": "markdown",
   "id": "ffa57ca3",
   "metadata": {},
   "source": [
    "Batch essentially takes the mean over samples of what is normally done, like so:\n",
    "$$\n",
    "\\texttt{cost\\_fn(weights, X, Y)} = \\frac{1}{\\texttt{len}(X)} \\sum_{i=1}^{\\texttt{len}(X)} \\texttt{cost(final\\_circuit(weights, X[i]), Y[i])}\n",
    "$$"
   ]
  },
  {
   "cell_type": "code",
   "execution_count": 12,
   "id": "143cfb00",
   "metadata": {},
   "outputs": [],
   "source": [
    "def cost_fn(weights, X, Y):\n",
    "    if len(X.shape) == 2:\n",
    "        total_cost = 0\n",
    "        for i in range(len(X)):\n",
    "            features = X[i]\n",
    "            label = Y[i]\n",
    "            prediction = final_circuit(weights, features)\n",
    "            total_cost += cost(prediction, label)\n",
    "        return total_cost / len(X)\n",
    "    else:\n",
    "        prediction = final_circuit(weights, X)\n",
    "        return cost(prediction, Y)\n"
   ]
  },
  {
   "cell_type": "markdown",
   "id": "73ad5802",
   "metadata": {},
   "source": [
    "Now, accuracy (it's really just a glorified `final_circuit` wrapper)"
   ]
  },
  {
   "cell_type": "code",
   "execution_count": 60,
   "id": "9c5d033b",
   "metadata": {},
   "outputs": [],
   "source": [
    "def predict(weights, features, reportInteger=False):\n",
    "        raw_output = final_circuit(weights, features)\n",
    "        if reportInteger:\n",
    "            return normalize(-1, 1, raw_output, end_param=1)\n",
    "        return int(normalize(-1, 1, raw_output, end_param=1) >= 0.5)"
   ]
  },
  {
   "cell_type": "code",
   "execution_count": 61,
   "id": "ca12789f",
   "metadata": {},
   "outputs": [],
   "source": [
    "def acc_predict_unseen(weights, X_test, Y_test, num_samples=50):\n",
    "    correct = 0\n",
    "    total = min(num_samples, len(X_test))\n",
    "    \n",
    "    for i in range(total):\n",
    "        features = X_test.iloc[i].to_numpy()\n",
    "        label = Y_test.iloc[i]\n",
    "        prediction = predict(weights, features)\n",
    "        if prediction == label:\n",
    "            correct += 1\n",
    "            \n",
    "    return correct / total\n"
   ]
  },
  {
   "cell_type": "markdown",
   "id": "04d7a0b1",
   "metadata": {},
   "source": [
    "### Graphing Functionality"
   ]
  },
  {
   "cell_type": "markdown",
   "id": "9b0899e2",
   "metadata": {},
   "source": [
    "Now, let's **graph**..."
   ]
  },
  {
   "cell_type": "code",
   "execution_count": 14,
   "id": "10f831de",
   "metadata": {},
   "outputs": [],
   "source": [
    "logpath=\"\"#Will be changed later"
   ]
  },
  {
   "cell_type": "markdown",
   "id": "d7775a6b",
   "metadata": {},
   "source": [
    "Define what we want to graph..."
   ]
  },
  {
   "cell_type": "code",
   "execution_count": 15,
   "id": "7477c611",
   "metadata": {},
   "outputs": [],
   "source": [
    "def generate_graph_variables():\n",
    "    global iters, costs, accs\n",
    "    iters = [l for l in range(len(graph))]\n",
    "    costs = [x[1] for x in graph]\n",
    "    accs = [x[2] for x in graph]"
   ]
  },
  {
   "cell_type": "markdown",
   "id": "5f74cd67",
   "metadata": {},
   "source": [
    "And generate figures..."
   ]
  },
  {
   "cell_type": "code",
   "execution_count": 16,
   "id": "3a0556d8",
   "metadata": {},
   "outputs": [],
   "source": [
    "def generate_plots():\n",
    "    cost_fig = go.Figure()\n",
    "    cost_fig.add_trace(go.Scatter(x=iters, y=costs, mode='lines+markers', name='Cost'))\n",
    "    cost_fig.update_layout(\n",
    "        title='Training Cost over Iterations',\n",
    "        xaxis_title='Iteration',\n",
    "        yaxis_title='Cost',\n",
    "        template='plotly_dark'\n",
    "    )\n",
    "\n",
    "    # Create accuracy plot\n",
    "    acc_fig = go.Figure()\n",
    "    acc_fig.add_trace(go.Scatter(x=iters, y=accs, mode='lines+markers', name='Accuracy', line=dict(color='orange')))\n",
    "    acc_fig.update_layout(\n",
    "        title='Training Accuracy over Iterations',\n",
    "        xaxis_title='Iteration',\n",
    "        yaxis_title='Accuracy',\n",
    "        template='plotly_dark'\n",
    "    )\n",
    "\n",
    "    # Show both\n",
    "    cost_fig.write_html(logpath + f\"\\\\{current_run}\\\\cost.html\")\n",
    "    acc_fig.write_html(logpath + f\"\\\\{current_run}\\\\accuracy.html\")\n"
   ]
  },
  {
   "cell_type": "markdown",
   "id": "72255872",
   "metadata": {},
   "source": [
    "### Stochastic Gradient Descent"
   ]
  },
  {
   "cell_type": "markdown",
   "id": "8cc28e05",
   "metadata": {},
   "source": [
    "Now let's generate weights; a useful reference's the [documentation](https://docs.pennylane.ai/en/stable/code/api/pennylane.StronglyEntanglingLayers.html).\n",
    "\n",
    "`weights` a.k.a $\\theta$ are the trainable parameters that are updated by the program.\n",
    "\n",
    "<details>\n",
    "  <summary>Show legacy single-layer or tuple-based weight initialization code</summary>\n",
    "\n",
    "```python\n",
    "# Simple\n",
    "shape = qml.StronglyEntanglingLayers.shape(n_layers=2, n_wires=5)\n",
    "weights = np.random.random(size=shape)\n",
    "weights = opt.step(lambda w: cost_fn(w, X_train, Y_train), weights)\n",
    "\n",
    "# Tuple-based\n",
    "shape_basic = qml.BasicEntanglerLayers.shape(n_layers=2, n_wires=5)\n",
    "shape_strong = qml.StronglyEntanglingLayers.shape(n_layers=2, n_wires=5)\n",
    "\n",
    "weights = (\n",
    "    np.random.random(size=shape_basic),   # for BasicEntanglerLayers\n",
    "    np.random.random(size=shape_strong)   # for StronglyEntanglingLayers\n",
    ")\n",
    "```\n",
    "</details>"
   ]
  },
  {
   "cell_type": "code",
   "execution_count": 17,
   "id": "b5921289",
   "metadata": {},
   "outputs": [],
   "source": [
    "def reset_weights():\n",
    "    global weights\n",
    "    num_qubits = 5\n",
    "    num_layers_basic = 6\n",
    "    num_layers_strong = 4\n",
    "\n",
    "    shape_basic = qml.templates.BasicEntanglerLayers.shape(\n",
    "        n_layers=num_layers_basic, \n",
    "        n_wires=num_qubits\n",
    "    )\n",
    "\n",
    "    shape_strong = qml.templates.StronglyEntanglingLayers.shape(\n",
    "        n_layers=num_layers_strong, \n",
    "        n_wires=num_qubits\n",
    "    )\n",
    "\n",
    "    weights = (\n",
    "        np.random.random(size=shape_basic),\n",
    "        np.random.random(size=shape_strong)\n",
    "    )"
   ]
  },
  {
   "cell_type": "markdown",
   "id": "5fe2b354",
   "metadata": {},
   "source": [
    "Let's define how often the model should be trained (`n_iter`) and how drastic the changes should be (`stepsize`)."
   ]
  },
  {
   "cell_type": "code",
   "execution_count": 18,
   "id": "91688166",
   "metadata": {},
   "outputs": [],
   "source": [
    "graph = []"
   ]
  },
  {
   "cell_type": "markdown",
   "id": "a2ce1a3f",
   "metadata": {},
   "source": [
    "<details>\n",
    "  <summary>Show Normal Gradient Descent Explanation</summary>\n",
    "\n",
    "*AI-Assisted* This will continually train the model by...\n",
    " - Continuously generating `grads`, which is the same shape as (and tells where to nudge) `weights`\n",
    " - Applies <u>gradient descent</u>\n",
    "\n",
    " $$\n",
    " θ ← θ - α ∇θ\n",
    " $$\n",
    " This is the formula for gradient descent, where\n",
    "  - $\\theta$ = `weights` - a.k.a the trainable parameters\n",
    "  - $α$ = `stepsize` - a scalar controlling how fast learning is\n",
    "  - $∇θ$ - the gradient\n",
    "</details>\n",
    "\n",
    "*Some AI assistance - understand underlying theory*\n",
    "\n",
    "Here, we implement <b><a href=\"https://www.youtube.com/watch?v=qyGPheuLMYc\">Stochastic Gradient Descent</a></b>. We must understand that the variable to be updated in these types of algorithms, `weights` $\\theta$, are described by an update rule, and that $\\theta = [w, b]$. The formula for stochastic gradient descent is like so:\n",
    "$$\n",
    "\\theta = \\theta - \\alpha \\times dJ/d\\theta\n",
    "$$\n",
    "Which results into an update on weights, if we substitute $\\theta$ for $\\theta_0$ a.k.a $w$:\n",
    "$$\n",
    "\\begin{align*}\n",
    "w &= w - \\alpha \\cdot \\frac{d}{dw} J \\\\\n",
    "  &= w - \\alpha \\cdot \\frac{1}{m} \\sum_{i=1}^{m} \\left( (w \\cdot x_i - b) - y_i \\right) \\cdot x_i\n",
    "\\end{align*}$$\n",
    "And a substitution for $b$ a.k.a $\\theta$ also reveals the updated bias within $\\theta$:\n",
    "$$\n",
    "b = b - \\alpha \\cdot \\frac{1}{m} \\sum_{i=1}^{m} \\left( (w \\cdot x_i + b) - y_i \\right)\n",
    "$$\n",
    "\n",
    "First let's define some initialization parameters...\n",
    "\n",
    "<sub> AI was used for typesetting LaTeX as well, but not for generating the formulas. </sub>"
   ]
  },
  {
   "cell_type": "code",
   "execution_count": 19,
   "id": "1b2669af",
   "metadata": {},
   "outputs": [],
   "source": [
    "n_iter = 1600\n",
    "stepsize = 0.4\n",
    "use_mse = True"
   ]
  },
  {
   "cell_type": "code",
   "execution_count": 20,
   "id": "fae3da17",
   "metadata": {},
   "outputs": [],
   "source": [
    "def reset_accuracy_thresholds():\n",
    "    global best_acc, worst_acc\n",
    "    best_acc = -1.0       \n",
    "    worst_acc = 2.0       "
   ]
  },
  {
   "cell_type": "code",
   "execution_count": 21,
   "id": "0995b0d6",
   "metadata": {},
   "outputs": [],
   "source": [
    "def generate_runtime_environment():\n",
    "    global directory, current_run\n",
    "    directory = logpath\n",
    "    current_run = datetime.now().strftime(\"%Y-%m-%d_%H%M%S\")\n",
    "    os.makedirs(logpath + f\"\\\\{current_run}\", exist_ok=True)\n",
    "    "
   ]
  },
  {
   "cell_type": "code",
   "execution_count": null,
   "id": "e35a3040",
   "metadata": {},
   "outputs": [],
   "source": [
    "logpath = r\"backups\\night-runtime-6-20-25\"\n",
    "\n",
    "while True:\n",
    "    reset_weights()\n",
    "    reset_accuracy_thresholds()\n",
    "    generate_runtime_environment()\n",
    "    graph = []\n",
    "    interrupted = False\n",
    "\n",
    "    try:\n",
    "\n",
    "        cost_grad = qml.grad(cost_fn, argnum=0)\n",
    "\n",
    "        for i in range(n_iter):\n",
    "            index = np.random.randint(0, len(X_train))\n",
    "            grads = cost_grad(weights, X_train[index], Y_train[index])\n",
    "            grads_basic, grads_strong = grads\n",
    "            # weights = weights - stepsize * np.array(grads)\n",
    "            weights = (\n",
    "                weights[0] - stepsize * grads_basic,\n",
    "                weights[1] - stepsize * grads_strong\n",
    "            )\n",
    "\n",
    "            # current_cost = cost_fn(weights, X_train, Y_train)\n",
    "            current_cost = cost_fn(weights, X_train[index], Y_train[index])\n",
    "            accuracy = acc_predict_unseen(weights, X_test, Y_test, num_samples=50)\n",
    "            graph.append([i, current_cost, accuracy, use_mse])\n",
    "            print(f\"Iter {i} | Cost: {current_cost:.5f} | Accuracy: {accuracy:.2f}\")\n",
    "\n",
    "            # if i % 100 == 0:\n",
    "            #     with open(f\"backups/overnight-runtime/{current_run}/checkpoint_iter_{i}.pkl\", \"wb\") as f:\n",
    "            #         pickle.dump(weights, f)\n",
    "\n",
    "\n",
    "            if accuracy > best_acc:\n",
    "                best_acc = accuracy\n",
    "                with open(logpath + f\"\\\\{current_run}\\\\best_weights.pkl\", \"wb\") as f:\n",
    "                    cp.dump(copy.deepcopy(weights), f)\n",
    "            \n",
    "            if accuracy < worst_acc:\n",
    "                worst_acc = accuracy\n",
    "                with open(logpath + f\"\\\\{current_run}\\\\worst_weights.pkl\", \"wb\") as f:\n",
    "                    cp.dump(copy.deepcopy(weights), f)\n",
    "\n",
    "            # if accuracy >= 0.6 and use_mse:\n",
    "            #     use_mse = False\n",
    "            #     print(f\"🔁 Switched to BCE\")\n",
    "    except KeyboardInterrupt:\n",
    "        print(\"🔁Terminating safely\")\n",
    "        interrupted = True\n",
    "\n",
    "    with open(logpath + f\"\\\\{current_run}\\\\graph.pkl\", \"wb\") as f:\n",
    "        cp.dump(copy.deepcopy(graph), f)\n",
    "        \n",
    "    generate_graph_variables()\n",
    "        \n",
    "    generate_plots()\n",
    "\n",
    "    if interrupted:\n",
    "        break;"
   ]
  },
  {
   "cell_type": "markdown",
   "id": "d268e418",
   "metadata": {},
   "source": [
    "### (Deprecated) Extra Backups"
   ]
  },
  {
   "cell_type": "markdown",
   "id": "01b229fc",
   "metadata": {},
   "source": [
    "Now, let's use `pickle` and `shutil` to back up the current state of the circuit, as well as this notebook itself."
   ]
  },
  {
   "cell_type": "code",
   "execution_count": null,
   "id": "a90ee1f7",
   "metadata": {},
   "outputs": [],
   "source": [
    "# with open(directory+\"weights_backup_with_inversion_LIVE150_104.pkl\", \"wb\") as f:\n",
    "#     pickle.dump((weights, len(graph)), f)\n"
   ]
  },
  {
   "cell_type": "code",
   "execution_count": null,
   "id": "39878564",
   "metadata": {},
   "outputs": [],
   "source": [
    "# import pickle, shutil\n",
    "\n",
    "# directory = \"backups/circuit702/\"\n",
    "\n",
    "# with open(directory+\"weights_backup.pkl\", \"wb\") as f:\n",
    "#     pickle.dump((weights, len(graph)), f)\n",
    "\n",
    "# with open(directory+\"training_log.pkl\", \"wb\") as f:\n",
    "#     pickle.dump(graph, f)\n",
    "\n",
    "# shutil.copy(\"accuracy_plot.html\", directory+\"accuracy.html\")\n",
    "# shutil.copy(\"cost_plot.html\", directory+\"cost.html\")\n"
   ]
  },
  {
   "cell_type": "markdown",
   "id": "647c8608",
   "metadata": {},
   "source": [
    "### Training model on new terrain"
   ]
  },
  {
   "cell_type": "code",
   "execution_count": 27,
   "id": "0a11dc09",
   "metadata": {},
   "outputs": [],
   "source": [
    "from pennylane import numpy as np\n",
    "from pathlib import Path\n",
    "import pandas as pd\n",
    "import pickle"
   ]
  },
  {
   "cell_type": "code",
   "execution_count": 47,
   "id": "23820514",
   "metadata": {},
   "outputs": [],
   "source": [
    "def all_subpaths(input_path):\n",
    "    dir_path = Path(input_path)\n",
    "    paths = list(dir_path.glob(\"*\"))\n",
    "    return [str(path) for path in paths if \"lowkey-trash-runs\" not in str(path) and \".cpp\" not in str(path)]"
   ]
  },
  {
   "cell_type": "code",
   "execution_count": 31,
   "id": "61be5eb1",
   "metadata": {},
   "outputs": [],
   "source": [
    "def load_data(file_name):\n",
    "    global df, pi, n_rows, X_train, X_test, Y_train, Y_test\n",
    "    df = pd.read_csv(file_name)\n",
    "    pi = np.pi\n",
    "    df.head()\n",
    "\n",
    "    n_rows = 8000\n",
    "    X_train = df.iloc[0:n_rows, 0:5].to_numpy()\n",
    "    X_test  = df.iloc[n_rows:, 0:5]\n",
    "    Y_train = df.iloc[0:n_rows, 5].to_numpy()\n",
    "    Y_test  = df.iloc[n_rows:, 5]"
   ]
  },
  {
   "cell_type": "code",
   "execution_count": 62,
   "id": "22c4308c",
   "metadata": {},
   "outputs": [],
   "source": [
    "def print_logged_accuracy(path_weight, n_samples=[50], disp=[\"worst\", \"best\"], terminateEarly=False):\n",
    "    global best_weights, worst_weights\n",
    "\n",
    "    if \"best\" in disp:\n",
    "        path_best_weights  = path_weight+\"\\\\best_weights.pkl\"\n",
    "        with open(path_best_weights, \"rb\") as f:\n",
    "            best_weights = pickle.load(f)\n",
    "\n",
    "    if \"worst\" in disp:\n",
    "        path_worst_weights = path_weight+\"\\\\worst_weights.pkl\"\n",
    "        with open(path_worst_weights, \"rb\") as f:\n",
    "            worst_weights = pickle.load(f)\n",
    "\n",
    "    if terminateEarly:\n",
    "        return\n",
    "    \n",
    "    print(path_weight)\n",
    "    \n",
    "    if \"worst\" in disp:\n",
    "        for n_sample in n_samples:\n",
    "            print(\"Runtime Worst @ test\"+str(n_sample)+\":\", acc_predict_unseen(worst_weights, X_test, Y_test, num_samples=n_sample))\n",
    "    \n",
    "    if \"best\" in disp:\n",
    "        for n_sample in n_samples:\n",
    "            print(\"Runtime Best @ test\"+str(n_sample)+\":\", acc_predict_unseen(best_weights, X_test, Y_test, num_samples=n_sample))\n"
   ]
  },
  {
   "cell_type": "code",
   "execution_count": 59,
   "id": "894905f5",
   "metadata": {},
   "outputs": [
    {
     "name": "stdout",
     "output_type": "stream",
     "text": [
      "data-gen\\default.csv\n",
      "74% run\n",
      "backups\\night-runtime-6-20-25\\2025-06-20_032842\n",
      "Runtime Worst @ test50: 0.66\n",
      "Runtime Worst @ test400: 0.5575\n",
      "Runtime Best @ test50: 0.48\n",
      "Runtime Best @ test400: 0.485\n",
      "24% run\n",
      "backups\\night-runtime-6-20-25\\2025-06-20_035214\n",
      "Runtime Worst @ test50: 0.5\n",
      "Runtime Worst @ test400: 0.4875\n",
      "Runtime Best @ test50: 0.52\n",
      "Runtime Best @ test400: 0.5475\n",
      "data-gen\\default.mod-key.csv\n",
      "74% run\n",
      "backups\\night-runtime-6-20-25\\2025-06-20_032842\n",
      "Runtime Worst @ test50: 0.5\n",
      "Runtime Worst @ test400: 0.5\n",
      "Runtime Best @ test50: 0.46\n",
      "Runtime Best @ test400: 0.435\n",
      "24% run\n",
      "backups\\night-runtime-6-20-25\\2025-06-20_035214\n",
      "Runtime Worst @ test50: 0.54\n",
      "Runtime Worst @ test400: 0.5425\n",
      "Runtime Best @ test50: 0.54\n",
      "Runtime Best @ test400: 0.5025\n",
      "data-gen\\default.mod-rng-and-key.csv\n",
      "74% run\n",
      "backups\\night-runtime-6-20-25\\2025-06-20_032842\n",
      "Runtime Worst @ test50: 0.56\n",
      "Runtime Worst @ test400: 0.475\n",
      "Runtime Best @ test50: 0.64\n",
      "Runtime Best @ test400: 0.5325\n",
      "24% run\n",
      "backups\\night-runtime-6-20-25\\2025-06-20_035214\n",
      "Runtime Worst @ test50: 0.46\n",
      "Runtime Worst @ test400: 0.51\n",
      "Runtime Best @ test50: 0.58\n",
      "Runtime Best @ test400: 0.4975\n",
      "data-gen\\default.mod-rng.csv\n",
      "74% run\n",
      "backups\\night-runtime-6-20-25\\2025-06-20_032842\n",
      "Runtime Worst @ test50: 0.32\n",
      "Runtime Worst @ test400: 0.4725\n",
      "Runtime Best @ test50: 0.74\n",
      "Runtime Best @ test400: 0.5425\n",
      "24% run\n",
      "backups\\night-runtime-6-20-25\\2025-06-20_035214\n",
      "Runtime Worst @ test50: 0.24\n",
      "Runtime Worst @ test400: 0.4975\n",
      "Runtime Best @ test50: 0.72\n",
      "Runtime Best @ test400: 0.5175\n"
     ]
    }
   ],
   "source": [
    "for indiv_path in all_subpaths(\"data-gen\"):\n",
    "    print(indiv_path)\n",
    "    load_data(indiv_path)\n",
    "\n",
    "    print(r\"74% run\")\n",
    "    print_logged_accuracy(r\"backups\\night-runtime-6-20-25\\2025-06-20_032842\", n_samples=[50, 400], disp=[\"best\", \"worst\"])\n",
    "\n",
    "    print(r\"24% run\")\n",
    "    print_logged_accuracy(r\"backups\\night-runtime-6-20-25\\2025-06-20_035214\", n_samples=[50, 400], disp=[\"worst\", \"best\"])"
   ]
  },
  {
   "cell_type": "markdown",
   "id": "fa259a3f",
   "metadata": {},
   "source": [
    "<details>\n",
    "  <summary>Show archived output</summary>\n",
    "\n",
    "Evaluation on 50 iters\n",
    "```\n",
    "data-gen\\default.csv\n",
    "74% run\n",
    "backups\\night-runtime-6-20-25\\2025-06-20_032842\n",
    "Runtime Worst @ test50: 0.66\n",
    "Runtime Worst @ test400: 0.5575\n",
    "Runtime Best @ test50: 0.48\n",
    "Runtime Best @ test400: 0.485\n",
    "24% run\n",
    "backups\\night-runtime-6-20-25\\2025-06-20_035214\n",
    "Runtime Worst @ test50: 0.5\n",
    "Runtime Worst @ test400: 0.4875\n",
    "Runtime Best @ test50: 0.52\n",
    "Runtime Best @ test400: 0.5475\n",
    "data-gen\\default.mod-key.csv\n",
    "74% run\n",
    "backups\\night-runtime-6-20-25\\2025-06-20_032842\n",
    "Runtime Worst @ test50: 0.5\n",
    "Runtime Worst @ test400: 0.5\n",
    "Runtime Best @ test50: 0.46\n",
    "Runtime Best @ test400: 0.435\n",
    "24% run\n",
    "backups\\night-runtime-6-20-25\\2025-06-20_035214\n",
    "Runtime Worst @ test50: 0.54\n",
    "Runtime Worst @ test400: 0.5425\n",
    "Runtime Best @ test50: 0.54\n",
    "Runtime Best @ test400: 0.5025\n",
    "data-gen\\default.mod-rng-and-key.csv\n",
    "74% run\n",
    "backups\\night-runtime-6-20-25\\2025-06-20_032842\n",
    "Runtime Worst @ test50: 0.56\n",
    "Runtime Worst @ test400: 0.475\n",
    "Runtime Best @ test50: 0.64\n",
    "Runtime Best @ test400: 0.5325\n",
    "24% run\n",
    "backups\\night-runtime-6-20-25\\2025-06-20_035214\n",
    "Runtime Worst @ test50: 0.46\n",
    "Runtime Worst @ test400: 0.51\n",
    "Runtime Best @ test50: 0.58\n",
    "Runtime Best @ test400: 0.4975\n",
    "data-gen\\default.mod-rng.csv\n",
    "74% run\n",
    "backups\\night-runtime-6-20-25\\2025-06-20_032842\n",
    "Runtime Worst @ test50: 0.32\n",
    "Runtime Worst @ test400: 0.4725\n",
    "Runtime Best @ test50: 0.74\n",
    "Runtime Best @ test400: 0.5425\n",
    "24% run\n",
    "backups\\night-runtime-6-20-25\\2025-06-20_035214\n",
    "Runtime Worst @ test50: 0.24\n",
    "Runtime Worst @ test400: 0.4975\n",
    "Runtime Best @ test50: 0.72\n",
    "Runtime Best @ test400: 0.5175\n",
    "```\n",
    "</details>\n",
    "\n",
    "**Interpretation of the results** The model generalizes differently.\n",
    " - Same dataset: Generalizes as expected.\n",
    " - Increased iterations: A increased number of random data selections, even if selection earlier with lower iteration count was random, still results in decreased generalizability.\n",
    " - Key shift: Model generalizability is gone when the key is changed; it can be inferred that the key forms an integral algebraic and algorithmic component of LWE.\n",
    " - RNG and Key shift: Model generalizability retains key aspects as the previously bi-directional model is now gravitating towards one axis of positive accuracy.\n",
    "   - This suggests that our model is able to capture the complexity of both the same and RNG/key dataset, but missing perhaps an additional layer that could increase generalizability for key shift. However, the implementation of such a layer ~~could screw up the model~~ could threaten both model performance and adaptiveness.\n",
    " - RNG Shift: Again, while not as bad as the key shift, some structure is preserved as seen in the worst weights' flipping."
   ]
  },
  {
   "cell_type": "markdown",
   "id": "c2410968",
   "metadata": {},
   "source": [
    "### Graphs for the Research Paper"
   ]
  },
  {
   "cell_type": "markdown",
   "id": "533a08fc",
   "metadata": {},
   "source": [
    "Let's start by loading in the data for the best and worst weights/$\\theta$ values to `best_weights` and `worst_weights`."
   ]
  },
  {
   "cell_type": "code",
   "execution_count": null,
   "id": "d43280ec",
   "metadata": {},
   "outputs": [],
   "source": [
    "best_run_path  = r\"backups\\night-runtime-6-20-25\\2025-06-20_032842\"\n",
    "worst_run_path = r\"backups\\night-runtime-6-20-25\\2025-06-20_035214\"\n",
    "\n",
    "print_logged_accuracy(best_run_path,  disp=[\"best\"],  terminateEarly=True)\n",
    "print_logged_accuracy(worst_run_path, disp=[\"worst\"], terminateEarly=True)"
   ]
  },
  {
   "cell_type": "markdown",
   "id": "95447b19",
   "metadata": {},
   "source": [
    "Remember: We accidentally trained on `data-gen\\default.mod-rng.csv`"
   ]
  },
  {
   "cell_type": "code",
   "execution_count": 84,
   "id": "5db14456",
   "metadata": {},
   "outputs": [],
   "source": [
    "df = pd.read_csv('data-gen/default.mod-rng.csv')\n",
    "pi = np.pi\n",
    "random.seed(42)\n",
    "np.random.seed(42)"
   ]
  },
  {
   "cell_type": "code",
   "execution_count": null,
   "id": "25b3beb8",
   "metadata": {},
   "outputs": [],
   "source": [
    "from sklearn.metrics import roc_curve, auc"
   ]
  },
  {
   "cell_type": "markdown",
   "id": "7590ce06",
   "metadata": {},
   "source": [
    "Below code cell tests stuff"
   ]
  },
  {
   "cell_type": "code",
   "execution_count": 90,
   "id": "0c7a4ac6",
   "metadata": {},
   "outputs": [
    {
     "name": "stdout",
     "output_type": "stream",
     "text": [
      "backups\\night-runtime-6-20-25\\2025-06-20_032842\n",
      "Runtime Best @ test50: 0.74\n"
     ]
    }
   ],
   "source": [
    "print_logged_accuracy(best_run_path,  disp=[\"best\"],  terminateEarly=False)"
   ]
  },
  {
   "cell_type": "markdown",
   "id": "c4ab14ef",
   "metadata": {},
   "source": [
    "### Terrain 1: Iterative Decay Property"
   ]
  },
  {
   "cell_type": "markdown",
   "id": "c538829d",
   "metadata": {},
   "source": [
    "The below code's testing whether the number of iterations of a sample have corellation."
   ]
  },
  {
   "cell_type": "code",
   "execution_count": 92,
   "id": "25bd545b",
   "metadata": {},
   "outputs": [],
   "source": [
    "Y_scores = [\n",
    "    predict(best_weights, x, reportInteger=True)\n",
    "    for x\n",
    "    in np.array(X_test, dtype=float)\n",
    "]"
   ]
  },
  {
   "cell_type": "code",
   "execution_count": 122,
   "id": "252d3401",
   "metadata": {},
   "outputs": [],
   "source": [
    "graph_iter_check = []\n",
    "for n_iters in range(1, 1001, 10):\n",
    "    _sum = 0\n",
    "    Y_scores_strict = [round(y) for y in Y_scores]\n",
    "    Y_test_strict = [x for x in Y_test]\n",
    "    for i in range(0, n_iters):\n",
    "        if Y_scores_strict[i] == Y_test_strict[i]:\n",
    "            _sum += 1\n",
    "    graph_iter_check.append(_sum / n_iters)"
   ]
  },
  {
   "cell_type": "code",
   "execution_count": 123,
   "id": "a0905476",
   "metadata": {},
   "outputs": [
    {
     "name": "stdout",
     "output_type": "stream",
     "text": [
      "100\n"
     ]
    }
   ],
   "source": [
    "print(len(graph_iter_check))\n"
   ]
  },
  {
   "cell_type": "code",
   "execution_count": 124,
   "id": "75933f16",
   "metadata": {},
   "outputs": [
    {
     "data": {
      "application/vnd.plotly.v1+json": {
       "config": {
        "plotlyServerURL": "https://plot.ly"
       },
       "data": [
        {
         "mode": "lines+markers",
         "name": "Accuracy",
         "type": "scatter",
         "x": [
          1,
          11,
          21,
          31,
          41,
          51,
          61,
          71,
          81,
          91,
          101,
          111,
          121,
          131,
          141,
          151,
          161,
          171,
          181,
          191,
          201,
          211,
          221,
          231,
          241,
          251,
          261,
          271,
          281,
          291,
          301,
          311,
          321,
          331,
          341,
          351,
          361,
          371,
          381,
          391,
          401,
          411,
          421,
          431,
          441,
          451,
          461,
          471,
          481,
          491,
          501,
          511,
          521,
          531,
          541,
          551,
          561,
          571,
          581,
          591,
          601,
          611,
          621,
          631,
          641,
          651,
          661,
          671,
          681,
          691,
          701,
          711,
          721,
          731,
          741,
          751,
          761,
          771,
          781,
          791,
          801,
          811,
          821,
          831,
          841,
          851,
          861,
          871,
          881,
          891,
          901,
          911,
          921,
          931,
          941,
          951,
          961,
          971,
          981,
          991
         ],
         "y": [
          0,
          0.7272727272727273,
          0.8095238095238095,
          0.7096774193548387,
          0.7560975609756098,
          0.7450980392156863,
          0.7213114754098361,
          0.676056338028169,
          0.6296296296296297,
          0.6483516483516484,
          0.6336633663366337,
          0.6036036036036037,
          0.6033057851239669,
          0.6106870229007634,
          0.6170212765957447,
          0.6357615894039735,
          0.639751552795031,
          0.6023391812865497,
          0.5911602209944752,
          0.581151832460733,
          0.5771144278606966,
          0.5734597156398105,
          0.5610859728506787,
          0.5670995670995671,
          0.5684647302904564,
          0.5697211155378487,
          0.5632183908045977,
          0.5719557195571956,
          0.5658362989323843,
          0.563573883161512,
          0.5614617940199336,
          0.5466237942122186,
          0.5420560747663551,
          0.540785498489426,
          0.5425219941348973,
          0.5413105413105413,
          0.5401662049861495,
          0.5390835579514824,
          0.5380577427821522,
          0.5447570332480819,
          0.543640897755611,
          0.5425790754257908,
          0.5391923990498813,
          0.5336426914153132,
          0.5351473922902494,
          0.5343680709534369,
          0.5401301518438177,
          0.5392781316348195,
          0.5405405405405406,
          0.5376782077393075,
          0.5369261477045908,
          0.5420743639921722,
          0.5431861804222649,
          0.5386064030131826,
          0.5397412199630314,
          0.5353901996370236,
          0.5329768270944741,
          0.5288966725043783,
          0.5266781411359724,
          0.5211505922165821,
          0.5174708818635607,
          0.5171849427168577,
          0.5169082125603864,
          0.5198098256735341,
          0.5210608424336973,
          0.5238095238095238,
          0.5234493192133132,
          0.5230998509687034,
          0.5198237885462555,
          0.5195369030390738,
          0.5206847360912982,
          0.5232067510548524,
          0.5201109570041609,
          0.5198358413132695,
          0.5182186234817814,
          0.5179760319573902,
          0.5164257555847569,
          0.5149156939040207,
          0.5185659411011524,
          0.5170670037926675,
          0.5143570536828964,
          0.5104808877928483,
          0.510353227771011,
          0.5078219013237064,
          0.5065398335315101,
          0.5076380728554641,
          0.5040650406504065,
          0.5028702640642939,
          0.5017026106696936,
          0.500561167227834,
          0.5016648168701443,
          0.5016465422612514,
          0.501628664495114,
          0.4983888292158969,
          0.4962805526036132,
          0.4931650893796004,
          0.4911550468262227,
          0.4922760041194645,
          0.4923547400611621,
          0.4924318869828456
         ]
        }
       ],
       "layout": {
        "template": {
         "data": {
          "bar": [
           {
            "error_x": {
             "color": "#f2f5fa"
            },
            "error_y": {
             "color": "#f2f5fa"
            },
            "marker": {
             "line": {
              "color": "rgb(17,17,17)",
              "width": 0.5
             },
             "pattern": {
              "fillmode": "overlay",
              "size": 10,
              "solidity": 0.2
             }
            },
            "type": "bar"
           }
          ],
          "barpolar": [
           {
            "marker": {
             "line": {
              "color": "rgb(17,17,17)",
              "width": 0.5
             },
             "pattern": {
              "fillmode": "overlay",
              "size": 10,
              "solidity": 0.2
             }
            },
            "type": "barpolar"
           }
          ],
          "carpet": [
           {
            "aaxis": {
             "endlinecolor": "#A2B1C6",
             "gridcolor": "#506784",
             "linecolor": "#506784",
             "minorgridcolor": "#506784",
             "startlinecolor": "#A2B1C6"
            },
            "baxis": {
             "endlinecolor": "#A2B1C6",
             "gridcolor": "#506784",
             "linecolor": "#506784",
             "minorgridcolor": "#506784",
             "startlinecolor": "#A2B1C6"
            },
            "type": "carpet"
           }
          ],
          "choropleth": [
           {
            "colorbar": {
             "outlinewidth": 0,
             "ticks": ""
            },
            "type": "choropleth"
           }
          ],
          "contour": [
           {
            "colorbar": {
             "outlinewidth": 0,
             "ticks": ""
            },
            "colorscale": [
             [
              0,
              "#0d0887"
             ],
             [
              0.1111111111111111,
              "#46039f"
             ],
             [
              0.2222222222222222,
              "#7201a8"
             ],
             [
              0.3333333333333333,
              "#9c179e"
             ],
             [
              0.4444444444444444,
              "#bd3786"
             ],
             [
              0.5555555555555556,
              "#d8576b"
             ],
             [
              0.6666666666666666,
              "#ed7953"
             ],
             [
              0.7777777777777778,
              "#fb9f3a"
             ],
             [
              0.8888888888888888,
              "#fdca26"
             ],
             [
              1,
              "#f0f921"
             ]
            ],
            "type": "contour"
           }
          ],
          "contourcarpet": [
           {
            "colorbar": {
             "outlinewidth": 0,
             "ticks": ""
            },
            "type": "contourcarpet"
           }
          ],
          "heatmap": [
           {
            "colorbar": {
             "outlinewidth": 0,
             "ticks": ""
            },
            "colorscale": [
             [
              0,
              "#0d0887"
             ],
             [
              0.1111111111111111,
              "#46039f"
             ],
             [
              0.2222222222222222,
              "#7201a8"
             ],
             [
              0.3333333333333333,
              "#9c179e"
             ],
             [
              0.4444444444444444,
              "#bd3786"
             ],
             [
              0.5555555555555556,
              "#d8576b"
             ],
             [
              0.6666666666666666,
              "#ed7953"
             ],
             [
              0.7777777777777778,
              "#fb9f3a"
             ],
             [
              0.8888888888888888,
              "#fdca26"
             ],
             [
              1,
              "#f0f921"
             ]
            ],
            "type": "heatmap"
           }
          ],
          "histogram": [
           {
            "marker": {
             "pattern": {
              "fillmode": "overlay",
              "size": 10,
              "solidity": 0.2
             }
            },
            "type": "histogram"
           }
          ],
          "histogram2d": [
           {
            "colorbar": {
             "outlinewidth": 0,
             "ticks": ""
            },
            "colorscale": [
             [
              0,
              "#0d0887"
             ],
             [
              0.1111111111111111,
              "#46039f"
             ],
             [
              0.2222222222222222,
              "#7201a8"
             ],
             [
              0.3333333333333333,
              "#9c179e"
             ],
             [
              0.4444444444444444,
              "#bd3786"
             ],
             [
              0.5555555555555556,
              "#d8576b"
             ],
             [
              0.6666666666666666,
              "#ed7953"
             ],
             [
              0.7777777777777778,
              "#fb9f3a"
             ],
             [
              0.8888888888888888,
              "#fdca26"
             ],
             [
              1,
              "#f0f921"
             ]
            ],
            "type": "histogram2d"
           }
          ],
          "histogram2dcontour": [
           {
            "colorbar": {
             "outlinewidth": 0,
             "ticks": ""
            },
            "colorscale": [
             [
              0,
              "#0d0887"
             ],
             [
              0.1111111111111111,
              "#46039f"
             ],
             [
              0.2222222222222222,
              "#7201a8"
             ],
             [
              0.3333333333333333,
              "#9c179e"
             ],
             [
              0.4444444444444444,
              "#bd3786"
             ],
             [
              0.5555555555555556,
              "#d8576b"
             ],
             [
              0.6666666666666666,
              "#ed7953"
             ],
             [
              0.7777777777777778,
              "#fb9f3a"
             ],
             [
              0.8888888888888888,
              "#fdca26"
             ],
             [
              1,
              "#f0f921"
             ]
            ],
            "type": "histogram2dcontour"
           }
          ],
          "mesh3d": [
           {
            "colorbar": {
             "outlinewidth": 0,
             "ticks": ""
            },
            "type": "mesh3d"
           }
          ],
          "parcoords": [
           {
            "line": {
             "colorbar": {
              "outlinewidth": 0,
              "ticks": ""
             }
            },
            "type": "parcoords"
           }
          ],
          "pie": [
           {
            "automargin": true,
            "type": "pie"
           }
          ],
          "scatter": [
           {
            "marker": {
             "line": {
              "color": "#283442"
             }
            },
            "type": "scatter"
           }
          ],
          "scatter3d": [
           {
            "line": {
             "colorbar": {
              "outlinewidth": 0,
              "ticks": ""
             }
            },
            "marker": {
             "colorbar": {
              "outlinewidth": 0,
              "ticks": ""
             }
            },
            "type": "scatter3d"
           }
          ],
          "scattercarpet": [
           {
            "marker": {
             "colorbar": {
              "outlinewidth": 0,
              "ticks": ""
             }
            },
            "type": "scattercarpet"
           }
          ],
          "scattergeo": [
           {
            "marker": {
             "colorbar": {
              "outlinewidth": 0,
              "ticks": ""
             }
            },
            "type": "scattergeo"
           }
          ],
          "scattergl": [
           {
            "marker": {
             "line": {
              "color": "#283442"
             }
            },
            "type": "scattergl"
           }
          ],
          "scattermap": [
           {
            "marker": {
             "colorbar": {
              "outlinewidth": 0,
              "ticks": ""
             }
            },
            "type": "scattermap"
           }
          ],
          "scattermapbox": [
           {
            "marker": {
             "colorbar": {
              "outlinewidth": 0,
              "ticks": ""
             }
            },
            "type": "scattermapbox"
           }
          ],
          "scatterpolar": [
           {
            "marker": {
             "colorbar": {
              "outlinewidth": 0,
              "ticks": ""
             }
            },
            "type": "scatterpolar"
           }
          ],
          "scatterpolargl": [
           {
            "marker": {
             "colorbar": {
              "outlinewidth": 0,
              "ticks": ""
             }
            },
            "type": "scatterpolargl"
           }
          ],
          "scatterternary": [
           {
            "marker": {
             "colorbar": {
              "outlinewidth": 0,
              "ticks": ""
             }
            },
            "type": "scatterternary"
           }
          ],
          "surface": [
           {
            "colorbar": {
             "outlinewidth": 0,
             "ticks": ""
            },
            "colorscale": [
             [
              0,
              "#0d0887"
             ],
             [
              0.1111111111111111,
              "#46039f"
             ],
             [
              0.2222222222222222,
              "#7201a8"
             ],
             [
              0.3333333333333333,
              "#9c179e"
             ],
             [
              0.4444444444444444,
              "#bd3786"
             ],
             [
              0.5555555555555556,
              "#d8576b"
             ],
             [
              0.6666666666666666,
              "#ed7953"
             ],
             [
              0.7777777777777778,
              "#fb9f3a"
             ],
             [
              0.8888888888888888,
              "#fdca26"
             ],
             [
              1,
              "#f0f921"
             ]
            ],
            "type": "surface"
           }
          ],
          "table": [
           {
            "cells": {
             "fill": {
              "color": "#506784"
             },
             "line": {
              "color": "rgb(17,17,17)"
             }
            },
            "header": {
             "fill": {
              "color": "#2a3f5f"
             },
             "line": {
              "color": "rgb(17,17,17)"
             }
            },
            "type": "table"
           }
          ]
         },
         "layout": {
          "annotationdefaults": {
           "arrowcolor": "#f2f5fa",
           "arrowhead": 0,
           "arrowwidth": 1
          },
          "autotypenumbers": "strict",
          "coloraxis": {
           "colorbar": {
            "outlinewidth": 0,
            "ticks": ""
           }
          },
          "colorscale": {
           "diverging": [
            [
             0,
             "#8e0152"
            ],
            [
             0.1,
             "#c51b7d"
            ],
            [
             0.2,
             "#de77ae"
            ],
            [
             0.3,
             "#f1b6da"
            ],
            [
             0.4,
             "#fde0ef"
            ],
            [
             0.5,
             "#f7f7f7"
            ],
            [
             0.6,
             "#e6f5d0"
            ],
            [
             0.7,
             "#b8e186"
            ],
            [
             0.8,
             "#7fbc41"
            ],
            [
             0.9,
             "#4d9221"
            ],
            [
             1,
             "#276419"
            ]
           ],
           "sequential": [
            [
             0,
             "#0d0887"
            ],
            [
             0.1111111111111111,
             "#46039f"
            ],
            [
             0.2222222222222222,
             "#7201a8"
            ],
            [
             0.3333333333333333,
             "#9c179e"
            ],
            [
             0.4444444444444444,
             "#bd3786"
            ],
            [
             0.5555555555555556,
             "#d8576b"
            ],
            [
             0.6666666666666666,
             "#ed7953"
            ],
            [
             0.7777777777777778,
             "#fb9f3a"
            ],
            [
             0.8888888888888888,
             "#fdca26"
            ],
            [
             1,
             "#f0f921"
            ]
           ],
           "sequentialminus": [
            [
             0,
             "#0d0887"
            ],
            [
             0.1111111111111111,
             "#46039f"
            ],
            [
             0.2222222222222222,
             "#7201a8"
            ],
            [
             0.3333333333333333,
             "#9c179e"
            ],
            [
             0.4444444444444444,
             "#bd3786"
            ],
            [
             0.5555555555555556,
             "#d8576b"
            ],
            [
             0.6666666666666666,
             "#ed7953"
            ],
            [
             0.7777777777777778,
             "#fb9f3a"
            ],
            [
             0.8888888888888888,
             "#fdca26"
            ],
            [
             1,
             "#f0f921"
            ]
           ]
          },
          "colorway": [
           "#636efa",
           "#EF553B",
           "#00cc96",
           "#ab63fa",
           "#FFA15A",
           "#19d3f3",
           "#FF6692",
           "#B6E880",
           "#FF97FF",
           "#FECB52"
          ],
          "font": {
           "color": "#f2f5fa"
          },
          "geo": {
           "bgcolor": "rgb(17,17,17)",
           "lakecolor": "rgb(17,17,17)",
           "landcolor": "rgb(17,17,17)",
           "showlakes": true,
           "showland": true,
           "subunitcolor": "#506784"
          },
          "hoverlabel": {
           "align": "left"
          },
          "hovermode": "closest",
          "mapbox": {
           "style": "dark"
          },
          "paper_bgcolor": "rgb(17,17,17)",
          "plot_bgcolor": "rgb(17,17,17)",
          "polar": {
           "angularaxis": {
            "gridcolor": "#506784",
            "linecolor": "#506784",
            "ticks": ""
           },
           "bgcolor": "rgb(17,17,17)",
           "radialaxis": {
            "gridcolor": "#506784",
            "linecolor": "#506784",
            "ticks": ""
           }
          },
          "scene": {
           "xaxis": {
            "backgroundcolor": "rgb(17,17,17)",
            "gridcolor": "#506784",
            "gridwidth": 2,
            "linecolor": "#506784",
            "showbackground": true,
            "ticks": "",
            "zerolinecolor": "#C8D4E3"
           },
           "yaxis": {
            "backgroundcolor": "rgb(17,17,17)",
            "gridcolor": "#506784",
            "gridwidth": 2,
            "linecolor": "#506784",
            "showbackground": true,
            "ticks": "",
            "zerolinecolor": "#C8D4E3"
           },
           "zaxis": {
            "backgroundcolor": "rgb(17,17,17)",
            "gridcolor": "#506784",
            "gridwidth": 2,
            "linecolor": "#506784",
            "showbackground": true,
            "ticks": "",
            "zerolinecolor": "#C8D4E3"
           }
          },
          "shapedefaults": {
           "line": {
            "color": "#f2f5fa"
           }
          },
          "sliderdefaults": {
           "bgcolor": "#C8D4E3",
           "bordercolor": "rgb(17,17,17)",
           "borderwidth": 1,
           "tickwidth": 0
          },
          "ternary": {
           "aaxis": {
            "gridcolor": "#506784",
            "linecolor": "#506784",
            "ticks": ""
           },
           "baxis": {
            "gridcolor": "#506784",
            "linecolor": "#506784",
            "ticks": ""
           },
           "bgcolor": "rgb(17,17,17)",
           "caxis": {
            "gridcolor": "#506784",
            "linecolor": "#506784",
            "ticks": ""
           }
          },
          "title": {
           "x": 0.05
          },
          "updatemenudefaults": {
           "bgcolor": "#506784",
           "borderwidth": 0
          },
          "xaxis": {
           "automargin": true,
           "gridcolor": "#283442",
           "linecolor": "#506784",
           "ticks": "",
           "title": {
            "standoff": 15
           },
           "zerolinecolor": "#283442",
           "zerolinewidth": 2
          },
          "yaxis": {
           "automargin": true,
           "gridcolor": "#283442",
           "linecolor": "#506784",
           "ticks": "",
           "title": {
            "standoff": 15
           },
           "zerolinecolor": "#283442",
           "zerolinewidth": 2
          }
         }
        },
        "title": {
         "text": "VQC Accuracy Over Training Iterations"
        },
        "xaxis": {
         "title": {
          "text": "Training Iterations"
         }
        },
        "yaxis": {
         "title": {
          "text": "Accuracy"
         }
        }
       }
      }
     },
     "metadata": {},
     "output_type": "display_data"
    }
   ],
   "source": [
    "fig = go.Figure()\n",
    "fig.add_trace(go.Scatter(\n",
    "    x=list(range(1, 1001, 10)),\n",
    "    y=graph_iter_check,\n",
    "    mode='lines+markers',\n",
    "    name='Accuracy'\n",
    "))\n",
    "fig.update_layout(\n",
    "    title='VQC Accuracy Over Training Iterations',\n",
    "    xaxis_title='Training Iterations',\n",
    "    yaxis_title='Accuracy',\n",
    "    # yaxis=dict(range=[0, 1]),\n",
    "    template='plotly_dark'\n",
    ")\n",
    "fig.show()\n"
   ]
  },
  {
   "cell_type": "markdown",
   "id": "96a0229f",
   "metadata": {},
   "source": [
    "### ROC / AUC"
   ]
  },
  {
   "cell_type": "code",
   "execution_count": 85,
   "id": "85ed71f4",
   "metadata": {},
   "outputs": [],
   "source": [
    "n_rows = 8000\n",
    "X_train = df.iloc[0:n_rows, 0:5].to_numpy()\n",
    "X_test  = df.iloc[n_rows:, 0:5]\n",
    "Y_train = df.iloc[0:n_rows, 5].to_numpy()   # Labels the model'll run on\n",
    "Y_test  = df.iloc[n_rows:, 5]               # Labels the model'll check with"
   ]
  },
  {
   "cell_type": "code",
   "execution_count": 86,
   "id": "6a4a6bf8",
   "metadata": {},
   "outputs": [],
   "source": [
    "fpr, tpr, thresholds = roc_curve(Y_test, Y_scores)\n",
    "roc_auc = auc(fpr, tpr)\n"
   ]
  },
  {
   "cell_type": "code",
   "execution_count": 88,
   "id": "980eb8bf",
   "metadata": {},
   "outputs": [
    {
     "data": {
      "text/plain": [
       "[np.float64(0.390796169217535),\n",
       " np.float64(0.4380335088396249),\n",
       " np.float64(0.3667706395439891),\n",
       " np.float64(0.4810104998781413),\n",
       " np.float64(0.6057968287724851),\n",
       " np.float64(0.46286979243481174),\n",
       " np.float64(0.504089366756417),\n",
       " np.float64(0.49999868229155753),\n",
       " np.float64(0.5106502857678066),\n",
       " np.float64(0.5068899876137062),\n",
       " np.float64(0.4750178832297926),\n",
       " np.float64(0.5027868324862035),\n",
       " np.float64(0.455656366406734),\n",
       " np.float64(0.5319957428762949),\n",
       " np.float64(0.5323547594202299),\n",
       " np.float64(0.5295956680738464),\n",
       " np.float64(0.6109783791564939),\n",
       " np.float64(0.4844631396183432),\n",
       " np.float64(0.5725785763978574),\n",
       " np.float64(0.36141822462794937),\n",
       " np.float64(0.409576838967298),\n",
       " np.float64(0.3531475002535557),\n",
       " np.float64(0.5829205459205911),\n",
       " np.float64(0.5773376033588979),\n",
       " np.float64(0.33321556835192123),\n",
       " np.float64(0.5622496388840863),\n",
       " np.float64(0.5068905587776299),\n",
       " np.float64(0.3539217192589446),\n",
       " np.float64(0.5704627264793884),\n",
       " np.float64(0.5073987236100357),\n",
       " np.float64(0.5767354762751081),\n",
       " np.float64(0.3799323508938714),\n",
       " np.float64(0.5232211351602594),\n",
       " np.float64(0.4855356445523835),\n",
       " np.float64(0.5102754291493877),\n",
       " np.float64(0.42995290157740973),\n",
       " np.float64(0.47220354226853006),\n",
       " np.float64(0.537302768703742),\n",
       " np.float64(0.3887079773585922),\n",
       " np.float64(0.5135904536609003),\n",
       " np.float64(0.40820534213250037),\n",
       " np.float64(0.30025115846435885),\n",
       " np.float64(0.6220815212306736),\n",
       " np.float64(0.5022291440492476),\n",
       " np.float64(0.4673922703007278),\n",
       " np.float64(0.3103322900393092),\n",
       " np.float64(0.5238666755943685),\n",
       " np.float64(0.43431472952560923),\n",
       " np.float64(0.46207763267027296),\n",
       " np.float64(0.5167965727239141),\n",
       " np.float64(0.44779374620047796),\n",
       " np.float64(0.3452346953404008),\n",
       " np.float64(0.4718476368059157),\n",
       " np.float64(0.49424890989016074),\n",
       " np.float64(0.5475246410735115),\n",
       " np.float64(0.3907277948259217),\n",
       " np.float64(0.4064767409099423),\n",
       " np.float64(0.5933727806705092),\n",
       " np.float64(0.5513808300591458),\n",
       " np.float64(0.5450705901455496),\n",
       " np.float64(0.3126177472672394),\n",
       " np.float64(0.4778417821149175),\n",
       " np.float64(0.7344938459015962),\n",
       " np.float64(0.48864962011721425),\n",
       " np.float64(0.5000261320042375),\n",
       " np.float64(0.5777842420166761),\n",
       " np.float64(0.4893200198639803),\n",
       " np.float64(0.4058926042373894),\n",
       " np.float64(0.5639269590366228),\n",
       " np.float64(0.4680270006794128),\n",
       " np.float64(0.40266274177224926),\n",
       " np.float64(0.4886007728081508),\n",
       " np.float64(0.5883197565362814),\n",
       " np.float64(0.5254415750841445),\n",
       " np.float64(0.400642929569224),\n",
       " np.float64(0.4815981181650487),\n",
       " np.float64(0.4954877587860699),\n",
       " np.float64(0.5024441221860542),\n",
       " np.float64(0.4525646830682559),\n",
       " np.float64(0.3681444192013605),\n",
       " np.float64(0.5407412627744379),\n",
       " np.float64(0.4623870701401936),\n",
       " np.float64(0.4701198320172812),\n",
       " np.float64(0.4368656945770283),\n",
       " np.float64(0.47779519417792515),\n",
       " np.float64(0.4887448686576961),\n",
       " np.float64(0.4222708975336828),\n",
       " np.float64(0.427608047234116),\n",
       " np.float64(0.4542999298552806),\n",
       " np.float64(0.4726496335285984),\n",
       " np.float64(0.40432973843452014),\n",
       " np.float64(0.6194493742900535),\n",
       " np.float64(0.4746806214991966),\n",
       " np.float64(0.4035563717901161),\n",
       " np.float64(0.41380409153027364),\n",
       " np.float64(0.4373279148793505),\n",
       " np.float64(0.48656732354627147),\n",
       " np.float64(0.48973788566165516),\n",
       " np.float64(0.5270989365169029),\n",
       " np.float64(0.49140819553190246),\n",
       " np.float64(0.49160480974174275),\n",
       " np.float64(0.4735757070839099),\n",
       " np.float64(0.515856593751665),\n",
       " np.float64(0.41169752248319996),\n",
       " np.float64(0.4291734764567623),\n",
       " np.float64(0.3427277671337242),\n",
       " np.float64(0.626192360527472),\n",
       " np.float64(0.5774812510273678),\n",
       " np.float64(0.3557016987333419),\n",
       " np.float64(0.3326696287942881),\n",
       " np.float64(0.4789695176420262),\n",
       " np.float64(0.45365808380758854),\n",
       " np.float64(0.4951589594184025),\n",
       " np.float64(0.487094572413755),\n",
       " np.float64(0.5320065426384376),\n",
       " np.float64(0.4903166742369024),\n",
       " np.float64(0.5985107739356557),\n",
       " np.float64(0.4388263135255061),\n",
       " np.float64(0.547798908089994),\n",
       " np.float64(0.5022959075240001),\n",
       " np.float64(0.5356577261517317),\n",
       " np.float64(0.4104815939322633),\n",
       " np.float64(0.5458666289890487),\n",
       " np.float64(0.41347088226713347),\n",
       " np.float64(0.5624285109410739),\n",
       " np.float64(0.4764166944917826),\n",
       " np.float64(0.5186909777386545),\n",
       " np.float64(0.43343565601300127),\n",
       " np.float64(0.4667802085129046),\n",
       " np.float64(0.4877396592107253),\n",
       " np.float64(0.4199436104227954),\n",
       " np.float64(0.4359339029152457),\n",
       " np.float64(0.5914411462583152),\n",
       " np.float64(0.4460813189915449),\n",
       " np.float64(0.7193098196621839),\n",
       " np.float64(0.5574856309553663),\n",
       " np.float64(0.6053594014349932),\n",
       " np.float64(0.4492097583173843),\n",
       " np.float64(0.5015573330778571),\n",
       " np.float64(0.5691210778854354),\n",
       " np.float64(0.4367441090133606),\n",
       " np.float64(0.5104995433327152),\n",
       " np.float64(0.6848043876562044),\n",
       " np.float64(0.3978916195342999),\n",
       " np.float64(0.554060127918822),\n",
       " np.float64(0.3471118328808529),\n",
       " np.float64(0.4066647058770668),\n",
       " np.float64(0.5297133995522939),\n",
       " np.float64(0.6557253058647301),\n",
       " np.float64(0.6162868059105001),\n",
       " np.float64(0.46694832460645946),\n",
       " np.float64(0.5586821629646676),\n",
       " np.float64(0.39163201905956063),\n",
       " np.float64(0.5348833452837248),\n",
       " np.float64(0.44302503029635454),\n",
       " np.float64(0.5141951071198119),\n",
       " np.float64(0.5301780864741182),\n",
       " np.float64(0.3970358284760914),\n",
       " np.float64(0.6952870335375607),\n",
       " np.float64(0.3533950461990747),\n",
       " np.float64(0.40622008266100984),\n",
       " np.float64(0.5050641773118818),\n",
       " np.float64(0.5148945217328657),\n",
       " np.float64(0.34149422813761754),\n",
       " np.float64(0.30399536472890876),\n",
       " np.float64(0.527279287978867),\n",
       " np.float64(0.35859892752043937),\n",
       " np.float64(0.5759617847995564),\n",
       " np.float64(0.3071354867584214),\n",
       " np.float64(0.492743827861775),\n",
       " np.float64(0.5252249969860979),\n",
       " np.float64(0.3841678126428998),\n",
       " np.float64(0.27728743869867),\n",
       " np.float64(0.5091012409698722),\n",
       " np.float64(0.48358611266430546),\n",
       " np.float64(0.46721623796842404),\n",
       " np.float64(0.40885944024240983),\n",
       " np.float64(0.36404118099614946),\n",
       " np.float64(0.31070406268501966),\n",
       " np.float64(0.46009737713503535),\n",
       " np.float64(0.32481987092858955),\n",
       " np.float64(0.5138187723527609),\n",
       " np.float64(0.45794945202605836),\n",
       " np.float64(0.2907512310043248),\n",
       " np.float64(0.5230905503379609),\n",
       " np.float64(0.49677026493219006),\n",
       " np.float64(0.40674539542683696),\n",
       " np.float64(0.3721188517882014),\n",
       " np.float64(0.4749872040948092),\n",
       " np.float64(0.3861629250572857),\n",
       " np.float64(0.488222845200995),\n",
       " np.float64(0.6179515264219728),\n",
       " np.float64(0.454223741912395),\n",
       " np.float64(0.5224855392220851),\n",
       " np.float64(0.4654445181849571),\n",
       " np.float64(0.6884720210066986),\n",
       " np.float64(0.5336953826071251),\n",
       " np.float64(0.43459373303409926),\n",
       " np.float64(0.6838675361464484),\n",
       " np.float64(0.5742976893897146),\n",
       " np.float64(0.6451435167625972),\n",
       " np.float64(0.4943751230740269),\n",
       " np.float64(0.5371252270785095),\n",
       " np.float64(0.3573585143147261),\n",
       " np.float64(0.3459028800480357),\n",
       " np.float64(0.4374641003892747),\n",
       " np.float64(0.4020482470714105),\n",
       " np.float64(0.2981967268026046),\n",
       " np.float64(0.41865636467474476),\n",
       " np.float64(0.5966995683697495),\n",
       " np.float64(0.3921478181043352),\n",
       " np.float64(0.30930425640611653),\n",
       " np.float64(0.41344301548916856),\n",
       " np.float64(0.32486904617312995),\n",
       " np.float64(0.4575576840368699),\n",
       " np.float64(0.477462505965119),\n",
       " np.float64(0.6631106181475982),\n",
       " np.float64(0.39597235209100995),\n",
       " np.float64(0.42145674630622043),\n",
       " np.float64(0.4536194791420929),\n",
       " np.float64(0.29984792407496347),\n",
       " np.float64(0.4830834462813993),\n",
       " np.float64(0.5305644814687117),\n",
       " np.float64(0.5820588980613618),\n",
       " np.float64(0.39834283956238936),\n",
       " np.float64(0.47950783242429623),\n",
       " np.float64(0.45744651779678114),\n",
       " np.float64(0.4147477646098583),\n",
       " np.float64(0.550914338848277),\n",
       " np.float64(0.5771325640992728),\n",
       " np.float64(0.41277155697672313),\n",
       " np.float64(0.2920824812442929),\n",
       " np.float64(0.5754601092570538),\n",
       " np.float64(0.5303006216225147),\n",
       " np.float64(0.44624424979198757),\n",
       " np.float64(0.530938353902599),\n",
       " np.float64(0.5600401778779405),\n",
       " np.float64(0.3188024286732236),\n",
       " np.float64(0.3105571874154899),\n",
       " np.float64(0.39849845499926695),\n",
       " np.float64(0.6267913088624341),\n",
       " np.float64(0.46763936058390376),\n",
       " np.float64(0.42034343827658993),\n",
       " np.float64(0.3880848553572407),\n",
       " np.float64(0.4859019537501175),\n",
       " np.float64(0.34050534088300377),\n",
       " np.float64(0.4647233823765607),\n",
       " np.float64(0.45907552303638827),\n",
       " np.float64(0.7583667696992575),\n",
       " np.float64(0.397898310489471),\n",
       " np.float64(0.4468644191785871),\n",
       " np.float64(0.44436477248490847),\n",
       " np.float64(0.5288676465084791),\n",
       " np.float64(0.4720413120399292),\n",
       " np.float64(0.3665793859476235),\n",
       " np.float64(0.5821106468530977),\n",
       " np.float64(0.3033971761622906),\n",
       " np.float64(0.45045928395416956),\n",
       " np.float64(0.4155683309001582),\n",
       " np.float64(0.6009267238879228),\n",
       " np.float64(0.4602283541401325),\n",
       " np.float64(0.4566116690293344),\n",
       " np.float64(0.5010384430972689),\n",
       " np.float64(0.4510110332084278),\n",
       " np.float64(0.5364509772749482),\n",
       " np.float64(0.6884781716259208),\n",
       " np.float64(0.7151654867046935),\n",
       " np.float64(0.4203986934257657),\n",
       " np.float64(0.5191227957504488),\n",
       " np.float64(0.49483365819907194),\n",
       " np.float64(0.42391796386190184),\n",
       " np.float64(0.5062348261858459),\n",
       " np.float64(0.30979528163252024),\n",
       " np.float64(0.4616667765725968),\n",
       " np.float64(0.44379464300041727),\n",
       " np.float64(0.3228126911517277),\n",
       " np.float64(0.45912309393109596),\n",
       " np.float64(0.41064199891913367),\n",
       " np.float64(0.4444133266683168),\n",
       " np.float64(0.583242494689245),\n",
       " np.float64(0.48284824753497585),\n",
       " np.float64(0.4399790141672649),\n",
       " np.float64(0.4624748062115297),\n",
       " np.float64(0.48142185126041737),\n",
       " np.float64(0.3572869395806369),\n",
       " np.float64(0.31778058779816976),\n",
       " np.float64(0.5151598438912407),\n",
       " np.float64(0.4760507988507912),\n",
       " np.float64(0.5481119816036282),\n",
       " np.float64(0.6073447678346673),\n",
       " np.float64(0.4063308412729182),\n",
       " np.float64(0.44483165113771245),\n",
       " np.float64(0.35334399797752136),\n",
       " np.float64(0.4892954930133645),\n",
       " np.float64(0.570279508851003),\n",
       " np.float64(0.33332289366764734),\n",
       " np.float64(0.32038589571650367),\n",
       " np.float64(0.5228305929708704),\n",
       " np.float64(0.5101674084687912),\n",
       " np.float64(0.47316181509993605),\n",
       " np.float64(0.5435816311288884),\n",
       " np.float64(0.4967885755196966),\n",
       " np.float64(0.48518933511857554),\n",
       " np.float64(0.6423919611630372),\n",
       " np.float64(0.5348678538353137),\n",
       " np.float64(0.5028535782043306),\n",
       " np.float64(0.47661183098488136),\n",
       " np.float64(0.3427856131624156),\n",
       " np.float64(0.4585678431845471),\n",
       " np.float64(0.47516972873097374),\n",
       " np.float64(0.49408307294426057),\n",
       " np.float64(0.34516555019477996),\n",
       " np.float64(0.5358024598901959),\n",
       " np.float64(0.38429473591032004),\n",
       " np.float64(0.4787331239222051),\n",
       " np.float64(0.4385595645154017),\n",
       " np.float64(0.49860307668979503),\n",
       " np.float64(0.5605402239943684),\n",
       " np.float64(0.3958902024921962),\n",
       " np.float64(0.6136323725652745),\n",
       " np.float64(0.5108699678580684),\n",
       " np.float64(0.5128077364777722),\n",
       " np.float64(0.4574252218165307),\n",
       " np.float64(0.47238359464462865),\n",
       " np.float64(0.34929649485243003),\n",
       " np.float64(0.44700945360772537),\n",
       " np.float64(0.3864665942077569),\n",
       " np.float64(0.47233102153365003),\n",
       " np.float64(0.4802521287377635),\n",
       " np.float64(0.4050422320749282),\n",
       " np.float64(0.44374063814697795),\n",
       " np.float64(0.4753847347716073),\n",
       " np.float64(0.4473077813184192),\n",
       " np.float64(0.45057228949469175),\n",
       " np.float64(0.6858110641084405),\n",
       " np.float64(0.6305752552745223),\n",
       " np.float64(0.5304835802571026),\n",
       " np.float64(0.32433242898690595),\n",
       " np.float64(0.4655118945114428),\n",
       " np.float64(0.45037083210990136),\n",
       " np.float64(0.4415208256045573),\n",
       " np.float64(0.4499636748101089),\n",
       " np.float64(0.6532378075154963),\n",
       " np.float64(0.4241628136568133),\n",
       " np.float64(0.5897355942206075),\n",
       " np.float64(0.664387089447883),\n",
       " np.float64(0.4220228764659395),\n",
       " np.float64(0.3323532991074954),\n",
       " np.float64(0.7041928960439876),\n",
       " np.float64(0.6609313264684266),\n",
       " np.float64(0.364428937442383),\n",
       " np.float64(0.6649393879232375),\n",
       " np.float64(0.3249218761042305),\n",
       " np.float64(0.4152355884532283),\n",
       " np.float64(0.6222652228285642),\n",
       " np.float64(0.4646068897003877),\n",
       " np.float64(0.4795238371929847),\n",
       " np.float64(0.4786351861467351),\n",
       " np.float64(0.36700990425137797),\n",
       " np.float64(0.5470655220565656),\n",
       " np.float64(0.4910327691248114),\n",
       " np.float64(0.48266536891617723),\n",
       " np.float64(0.5238713320064043),\n",
       " np.float64(0.33661622487593484),\n",
       " np.float64(0.4484235797621825),\n",
       " np.float64(0.3998434261756783),\n",
       " np.float64(0.4038777648415881),\n",
       " np.float64(0.5957660752915439),\n",
       " np.float64(0.3841569078996624),\n",
       " np.float64(0.628363701386168),\n",
       " np.float64(0.5329861802915751),\n",
       " np.float64(0.4228537761558655),\n",
       " np.float64(0.4930169690893797),\n",
       " np.float64(0.3285531712998163),\n",
       " np.float64(0.5178459509213353),\n",
       " np.float64(0.5065259634249563),\n",
       " np.float64(0.27648489813137395),\n",
       " np.float64(0.4096672175645796),\n",
       " np.float64(0.4942550345473465),\n",
       " np.float64(0.42597466000518697),\n",
       " np.float64(0.4471566493528839),\n",
       " np.float64(0.4651081604332685),\n",
       " np.float64(0.4368698636643922),\n",
       " np.float64(0.564680860195239),\n",
       " np.float64(0.6017977883882006),\n",
       " np.float64(0.5594404663783548),\n",
       " np.float64(0.3394599812937495),\n",
       " np.float64(0.5491042007150613),\n",
       " np.float64(0.3882695099814967),\n",
       " np.float64(0.5712004019252621),\n",
       " np.float64(0.49692580130799646),\n",
       " np.float64(0.33254105582243987),\n",
       " np.float64(0.38076539367945356),\n",
       " np.float64(0.585200476598201),\n",
       " np.float64(0.45460717663886696),\n",
       " np.float64(0.49551177259270957),\n",
       " np.float64(0.2584238040249589),\n",
       " np.float64(0.5601940852881387),\n",
       " np.float64(0.4618505258936445),\n",
       " np.float64(0.5092716977395009),\n",
       " np.float64(0.6179743408928773),\n",
       " np.float64(0.5458482870224886),\n",
       " np.float64(0.5689756015979508),\n",
       " np.float64(0.5593904837963991),\n",
       " np.float64(0.5628889668646521),\n",
       " np.float64(0.5285685041656609),\n",
       " np.float64(0.47224661621162684),\n",
       " np.float64(0.45979519162500554),\n",
       " np.float64(0.3459994801482488),\n",
       " np.float64(0.5490437675558407),\n",
       " np.float64(0.5519052379137606),\n",
       " np.float64(0.4819136054704),\n",
       " np.float64(0.3096118142636121),\n",
       " np.float64(0.5352270105561062),\n",
       " np.float64(0.2964239746436966),\n",
       " np.float64(0.40607104803558725),\n",
       " np.float64(0.42477447738486085),\n",
       " np.float64(0.3975724153792467),\n",
       " np.float64(0.39945233889253784),\n",
       " np.float64(0.42714536761268634),\n",
       " np.float64(0.5304190362322113),\n",
       " np.float64(0.5898412213748834),\n",
       " np.float64(0.4388089316511584),\n",
       " np.float64(0.2653959962861554),\n",
       " np.float64(0.5175068406632896),\n",
       " np.float64(0.4196192598379021),\n",
       " np.float64(0.36194737165868324),\n",
       " np.float64(0.4238979553584718),\n",
       " np.float64(0.5203063460024867),\n",
       " np.float64(0.41389422905697704),\n",
       " np.float64(0.48493119942830876),\n",
       " np.float64(0.48163945985895235),\n",
       " np.float64(0.6247001588936698),\n",
       " np.float64(0.3296305627152355),\n",
       " np.float64(0.5052077327486878),\n",
       " np.float64(0.513782964509943),\n",
       " np.float64(0.5241897827750068),\n",
       " np.float64(0.5217369211352723),\n",
       " np.float64(0.5162971065001707),\n",
       " np.float64(0.47581107771545006),\n",
       " np.float64(0.5998874991131624),\n",
       " np.float64(0.3021622491314988),\n",
       " np.float64(0.5529970149510607),\n",
       " np.float64(0.41323141497888816),\n",
       " np.float64(0.48373045138532633),\n",
       " np.float64(0.6157172385539519),\n",
       " np.float64(0.4046354360466311),\n",
       " np.float64(0.5019150496259892),\n",
       " np.float64(0.49884310306728696),\n",
       " np.float64(0.38877518334191463),\n",
       " np.float64(0.531492328866415),\n",
       " np.float64(0.38366889486185096),\n",
       " np.float64(0.47624301895289856),\n",
       " np.float64(0.372136780389387),\n",
       " np.float64(0.46015704865116663),\n",
       " np.float64(0.4527536130325276),\n",
       " np.float64(0.39733117583571237),\n",
       " np.float64(0.38995298919342425),\n",
       " np.float64(0.3970011327054527),\n",
       " np.float64(0.5049048101262288),\n",
       " np.float64(0.4224028317829035),\n",
       " np.float64(0.5055332291378226),\n",
       " np.float64(0.4171781260003225),\n",
       " np.float64(0.4620868909807073),\n",
       " np.float64(0.3293373081368728),\n",
       " np.float64(0.5129525648661909),\n",
       " np.float64(0.3848789459976295),\n",
       " np.float64(0.3994974308599386),\n",
       " np.float64(0.4500360292231015),\n",
       " np.float64(0.5202313713990788),\n",
       " np.float64(0.5252904180542763),\n",
       " np.float64(0.4319636391807173),\n",
       " np.float64(0.4351590130213764),\n",
       " np.float64(0.29075520417936507),\n",
       " np.float64(0.5179803530624597),\n",
       " np.float64(0.34480787904104016),\n",
       " np.float64(0.3928151227552382),\n",
       " np.float64(0.4274579335942885),\n",
       " np.float64(0.4947502347023791),\n",
       " np.float64(0.3612765865435138),\n",
       " np.float64(0.40246947185940907),\n",
       " np.float64(0.4315557748781107),\n",
       " np.float64(0.44160576018511666),\n",
       " np.float64(0.41030794957246475),\n",
       " np.float64(0.3154395830694705),\n",
       " np.float64(0.329200398679107),\n",
       " np.float64(0.5998593709347904),\n",
       " np.float64(0.4204297391103987),\n",
       " np.float64(0.4560645160526883),\n",
       " np.float64(0.4973761966391615),\n",
       " np.float64(0.5352503935926878),\n",
       " np.float64(0.42650302020145825),\n",
       " np.float64(0.5132340349311735),\n",
       " np.float64(0.5701442736359158),\n",
       " np.float64(0.5007234900889607),\n",
       " np.float64(0.5115914785451809),\n",
       " np.float64(0.4546220077817291),\n",
       " np.float64(0.5614201384688126),\n",
       " np.float64(0.5515392996219572),\n",
       " np.float64(0.39555746685019066),\n",
       " np.float64(0.5254595829983046),\n",
       " np.float64(0.5608046781109352),\n",
       " np.float64(0.387014353827367),\n",
       " np.float64(0.6231752904648188),\n",
       " np.float64(0.3521962486011693),\n",
       " np.float64(0.4801555238878789),\n",
       " np.float64(0.5002106885022838),\n",
       " np.float64(0.4649288387677316),\n",
       " np.float64(0.43338936965953556),\n",
       " np.float64(0.5507309297192582),\n",
       " np.float64(0.3974031095922457),\n",
       " np.float64(0.47071480979114755),\n",
       " np.float64(0.2889161526711339),\n",
       " np.float64(0.4421111944889953),\n",
       " np.float64(0.36370543034317837),\n",
       " np.float64(0.45580402048653057),\n",
       " np.float64(0.5089578283185989),\n",
       " np.float64(0.5637333168349868),\n",
       " np.float64(0.4150808594409139),\n",
       " np.float64(0.5007850328777274),\n",
       " np.float64(0.4661238055463429),\n",
       " np.float64(0.5161125116554016),\n",
       " np.float64(0.5893112575522037),\n",
       " np.float64(0.6686202417678783),\n",
       " np.float64(0.5169042830780995),\n",
       " np.float64(0.601676776978404),\n",
       " np.float64(0.44196577806127224),\n",
       " np.float64(0.44267186304593387),\n",
       " np.float64(0.5997262808786026),\n",
       " np.float64(0.3901974908041368),\n",
       " np.float64(0.4318016119079607),\n",
       " np.float64(0.47921871155766815),\n",
       " np.float64(0.4200951538141664),\n",
       " np.float64(0.5068039951867234),\n",
       " np.float64(0.5902826469434466),\n",
       " np.float64(0.5246411502968756),\n",
       " np.float64(0.5736983499516873),\n",
       " np.float64(0.41560817729491994),\n",
       " np.float64(0.4053835198388336),\n",
       " np.float64(0.48051121783902123),\n",
       " np.float64(0.5450080870572231),\n",
       " np.float64(0.5165192165535526),\n",
       " np.float64(0.34836401892327407),\n",
       " np.float64(0.491943079027668),\n",
       " np.float64(0.286305861031196),\n",
       " np.float64(0.4491717394190347),\n",
       " np.float64(0.473436120781001),\n",
       " np.float64(0.4289547585907712),\n",
       " np.float64(0.4874667505133116),\n",
       " np.float64(0.5296385625629955),\n",
       " np.float64(0.44211365875468533),\n",
       " np.float64(0.4694503563545998),\n",
       " np.float64(0.2706673550300267),\n",
       " np.float64(0.46534551967811216),\n",
       " np.float64(0.6045197331404103),\n",
       " np.float64(0.5013692186194245),\n",
       " np.float64(0.4545579114964418),\n",
       " np.float64(0.470143636875536),\n",
       " np.float64(0.4779940262144001),\n",
       " np.float64(0.43626847938977426),\n",
       " np.float64(0.517355316819837),\n",
       " np.float64(0.5830384977009762),\n",
       " np.float64(0.6297889724789276),\n",
       " np.float64(0.4747737672534767),\n",
       " np.float64(0.49138643068273563),\n",
       " np.float64(0.4374797869715341),\n",
       " np.float64(0.6356138437545709),\n",
       " np.float64(0.5892666822297428),\n",
       " np.float64(0.5907106960330222),\n",
       " np.float64(0.5186177130564574),\n",
       " np.float64(0.4970104401370676),\n",
       " np.float64(0.470101370203867),\n",
       " np.float64(0.3158900782726475),\n",
       " np.float64(0.4864880816737116),\n",
       " np.float64(0.6340114375507978),\n",
       " np.float64(0.7058862438878066),\n",
       " np.float64(0.40544537953242926),\n",
       " np.float64(0.5217643346741326),\n",
       " np.float64(0.6150129901294838),\n",
       " np.float64(0.32360287961008044),\n",
       " np.float64(0.33628520960456),\n",
       " np.float64(0.37743142883286507),\n",
       " np.float64(0.5465103262978593),\n",
       " np.float64(0.3812726910968345),\n",
       " np.float64(0.483667115925994),\n",
       " np.float64(0.4383905663466235),\n",
       " np.float64(0.4730674148366002),\n",
       " np.float64(0.5731701340859575),\n",
       " np.float64(0.6588285786471901),\n",
       " np.float64(0.5098577310395931),\n",
       " np.float64(0.3176134267727407),\n",
       " np.float64(0.47049590223713417),\n",
       " np.float64(0.5032804885627011),\n",
       " np.float64(0.4187472883489889),\n",
       " np.float64(0.38140813746897184),\n",
       " np.float64(0.46058390596767684),\n",
       " np.float64(0.34831839706846157),\n",
       " np.float64(0.5284303732849218),\n",
       " np.float64(0.4052942236730922),\n",
       " np.float64(0.40350918706194305),\n",
       " np.float64(0.41033012620569825),\n",
       " np.float64(0.47291647558449723),\n",
       " np.float64(0.4589843200287664),\n",
       " np.float64(0.4437975258758048),\n",
       " np.float64(0.5080142936140232),\n",
       " np.float64(0.5194062815479445),\n",
       " np.float64(0.6549966888717036),\n",
       " np.float64(0.5584642997703085),\n",
       " np.float64(0.43312320710422747),\n",
       " np.float64(0.4605297998225489),\n",
       " np.float64(0.6401683367087331),\n",
       " np.float64(0.5654073449184948),\n",
       " np.float64(0.46210287916349335),\n",
       " np.float64(0.3492444676340336),\n",
       " np.float64(0.366257563570595),\n",
       " np.float64(0.5458569575847665),\n",
       " np.float64(0.42029648412311493),\n",
       " np.float64(0.4457998281254152),\n",
       " np.float64(0.35688759693825556),\n",
       " np.float64(0.35385746341195073),\n",
       " np.float64(0.40696793411968135),\n",
       " np.float64(0.42665466348755177),\n",
       " np.float64(0.4745338884451884),\n",
       " np.float64(0.3514554669631642),\n",
       " np.float64(0.446012203546073),\n",
       " np.float64(0.5106289521838927),\n",
       " np.float64(0.3395216361933224),\n",
       " np.float64(0.5490351157445224),\n",
       " np.float64(0.5424276457274267),\n",
       " np.float64(0.619521664313532),\n",
       " np.float64(0.592683555207482),\n",
       " np.float64(0.4645318821690191),\n",
       " np.float64(0.372539210415679),\n",
       " np.float64(0.44365796281544234),\n",
       " np.float64(0.5011509576956482),\n",
       " np.float64(0.37071078784901185),\n",
       " np.float64(0.35344455618546045),\n",
       " np.float64(0.556263495604046),\n",
       " np.float64(0.5053027817415043),\n",
       " np.float64(0.4668496705577246),\n",
       " np.float64(0.5136311743664619),\n",
       " np.float64(0.46307401117318847),\n",
       " np.float64(0.376663011012528),\n",
       " np.float64(0.3677548308788503),\n",
       " np.float64(0.46463859618669884),\n",
       " np.float64(0.48004154437833435),\n",
       " np.float64(0.6590969694664055),\n",
       " np.float64(0.44195683304260724),\n",
       " np.float64(0.40855900167944575),\n",
       " np.float64(0.3635661607457016),\n",
       " np.float64(0.5079100153176136),\n",
       " np.float64(0.4143117449215561),\n",
       " np.float64(0.4366173925574247),\n",
       " np.float64(0.37301802172568577),\n",
       " np.float64(0.5151008350782988),\n",
       " np.float64(0.5696361125738038),\n",
       " np.float64(0.49515758834383067),\n",
       " np.float64(0.35623722180896195),\n",
       " np.float64(0.5644841168140281),\n",
       " np.float64(0.544121670873946),\n",
       " np.float64(0.3596825610287598),\n",
       " np.float64(0.44892124071928413),\n",
       " np.float64(0.39317124359067557),\n",
       " np.float64(0.4893878246340311),\n",
       " np.float64(0.3187590154300491),\n",
       " np.float64(0.37612784556433715),\n",
       " np.float64(0.4663468273395144),\n",
       " np.float64(0.48103960582989286),\n",
       " np.float64(0.4813248606515939),\n",
       " np.float64(0.43034989183127237),\n",
       " np.float64(0.31996791249727746),\n",
       " np.float64(0.34308644646688635),\n",
       " np.float64(0.5680837234179663),\n",
       " np.float64(0.526779977037819),\n",
       " np.float64(0.509164372815103),\n",
       " np.float64(0.629473016252756),\n",
       " np.float64(0.5675501688264196),\n",
       " np.float64(0.4947640684588842),\n",
       " np.float64(0.4601241703454142),\n",
       " np.float64(0.40191471836174986),\n",
       " np.float64(0.6090690553938526),\n",
       " np.float64(0.5859381464233412),\n",
       " np.float64(0.425160769062908),\n",
       " np.float64(0.527561859056821),\n",
       " np.float64(0.45765802550248),\n",
       " np.float64(0.6898388503615481),\n",
       " np.float64(0.6693799398111644),\n",
       " np.float64(0.5815318534864184),\n",
       " np.float64(0.4658805253305256),\n",
       " np.float64(0.45628702597830095),\n",
       " np.float64(0.3728486675331662),\n",
       " np.float64(0.4464571237806521),\n",
       " np.float64(0.29566909307675304),\n",
       " np.float64(0.5080041107494397),\n",
       " np.float64(0.4863871061649794),\n",
       " np.float64(0.4570634973314999),\n",
       " np.float64(0.574394009074819),\n",
       " np.float64(0.6435418196428351),\n",
       " np.float64(0.4776350609276347),\n",
       " np.float64(0.4725039993127781),\n",
       " np.float64(0.47684686595193393),\n",
       " np.float64(0.4356489022170088),\n",
       " np.float64(0.47118730397138786),\n",
       " np.float64(0.4977079955389523),\n",
       " np.float64(0.4210980967131239),\n",
       " np.float64(0.560650543706597),\n",
       " np.float64(0.4542218388770429),\n",
       " np.float64(0.47199453102896677),\n",
       " np.float64(0.3821678118420309),\n",
       " np.float64(0.305243170992376),\n",
       " np.float64(0.47397077419801675),\n",
       " np.float64(0.5367833204678033),\n",
       " np.float64(0.4477575487560789),\n",
       " np.float64(0.492096296657708),\n",
       " np.float64(0.4158819612555139),\n",
       " np.float64(0.5639164031774571),\n",
       " np.float64(0.4868391603269604),\n",
       " np.float64(0.37562455232804537),\n",
       " np.float64(0.5273889571886311),\n",
       " np.float64(0.5344443932409138),\n",
       " np.float64(0.46134090691000496),\n",
       " np.float64(0.4361325879426824),\n",
       " np.float64(0.4382997537717421),\n",
       " np.float64(0.3905979774291254),\n",
       " np.float64(0.4974342338783011),\n",
       " np.float64(0.5139382241136389),\n",
       " np.float64(0.4255296224077614),\n",
       " np.float64(0.44503916602377747),\n",
       " np.float64(0.41123324893550156),\n",
       " np.float64(0.5421446300172017),\n",
       " np.float64(0.363814139608519),\n",
       " np.float64(0.3910128015762886),\n",
       " np.float64(0.4643474474493881),\n",
       " np.float64(0.4096777025548775),\n",
       " np.float64(0.4617104994461855),\n",
       " np.float64(0.4302954336299989),\n",
       " np.float64(0.5872033362515554),\n",
       " np.float64(0.5818218912984863),\n",
       " np.float64(0.47997554627102196),\n",
       " np.float64(0.4932433991970179),\n",
       " np.float64(0.680305688926197),\n",
       " np.float64(0.5424683483850143),\n",
       " np.float64(0.5661984056539654),\n",
       " np.float64(0.4790211058016054),\n",
       " np.float64(0.36761038396910906),\n",
       " np.float64(0.41749425555645664),\n",
       " np.float64(0.43679802488995717),\n",
       " np.float64(0.5145640815995614),\n",
       " np.float64(0.44729312956467504),\n",
       " np.float64(0.630257166834338),\n",
       " np.float64(0.6219117302306926),\n",
       " np.float64(0.4869443002613115),\n",
       " np.float64(0.38703352143852027),\n",
       " np.float64(0.5695042243892363),\n",
       " np.float64(0.5259600642650573),\n",
       " np.float64(0.4540482933669789),\n",
       " np.float64(0.49910122694294534),\n",
       " np.float64(0.4394925957301279),\n",
       " np.float64(0.47667114927085263),\n",
       " np.float64(0.4083115796150075),\n",
       " np.float64(0.46502003268088565),\n",
       " np.float64(0.4389853254485732),\n",
       " np.float64(0.4590097299468667),\n",
       " np.float64(0.636146620466775),\n",
       " np.float64(0.6342375279162951),\n",
       " np.float64(0.41624113084726333),\n",
       " np.float64(0.42476772835357657),\n",
       " np.float64(0.4772664390024301),\n",
       " np.float64(0.37224812063637974),\n",
       " np.float64(0.7164635393535993),\n",
       " np.float64(0.39128662158789757),\n",
       " np.float64(0.4925025023868006),\n",
       " np.float64(0.33652581322136366),\n",
       " np.float64(0.5365701013042903),\n",
       " np.float64(0.5202494454682889),\n",
       " np.float64(0.6768751628395235),\n",
       " np.float64(0.5707967594521635),\n",
       " np.float64(0.5110187577747766),\n",
       " np.float64(0.5018948561468276),\n",
       " np.float64(0.34456315823707356),\n",
       " np.float64(0.7093394831471029),\n",
       " np.float64(0.4537944482461194),\n",
       " np.float64(0.5020037765381602),\n",
       " np.float64(0.40660245496216274),\n",
       " np.float64(0.5213023214874154),\n",
       " np.float64(0.46712593195006646),\n",
       " np.float64(0.47843871048557846),\n",
       " np.float64(0.44350826244061037),\n",
       " np.float64(0.32952999097061786),\n",
       " np.float64(0.49487616643296434),\n",
       " np.float64(0.3128394424661248),\n",
       " np.float64(0.2895106200452357),\n",
       " np.float64(0.3616076198407614),\n",
       " np.float64(0.500457935804749),\n",
       " np.float64(0.2967470582414257),\n",
       " np.float64(0.5698643176718704),\n",
       " np.float64(0.49235647388497916),\n",
       " np.float64(0.526468427489499),\n",
       " np.float64(0.5541330286376046),\n",
       " np.float64(0.4182713477941975),\n",
       " np.float64(0.40330879282900095),\n",
       " np.float64(0.436930221866803),\n",
       " np.float64(0.5197534729787489),\n",
       " np.float64(0.5244816065308585),\n",
       " np.float64(0.4583500088292433),\n",
       " np.float64(0.4499223928693119),\n",
       " np.float64(0.31301168199891305),\n",
       " np.float64(0.33159695658768923),\n",
       " np.float64(0.3721032477663805),\n",
       " np.float64(0.35186088225921375),\n",
       " np.float64(0.4569739037401788),\n",
       " np.float64(0.4708991474325563),\n",
       " np.float64(0.40365714163357524),\n",
       " np.float64(0.37405504153661445),\n",
       " np.float64(0.5220009586797193),\n",
       " np.float64(0.5395866432877702),\n",
       " np.float64(0.3979289650008393),\n",
       " np.float64(0.40459414350531203),\n",
       " np.float64(0.6816297453661104),\n",
       " np.float64(0.5776422181959253),\n",
       " np.float64(0.45396934402290956),\n",
       " np.float64(0.41745557949311485),\n",
       " np.float64(0.47369670949633336),\n",
       " np.float64(0.371175609706629),\n",
       " np.float64(0.5725179411413923),\n",
       " np.float64(0.3559911026635495),\n",
       " np.float64(0.5810030358485554),\n",
       " np.float64(0.5198657911397034),\n",
       " np.float64(0.5392661178212639),\n",
       " np.float64(0.4350062658049273),\n",
       " np.float64(0.5999849157716797),\n",
       " np.float64(0.40918180195216003),\n",
       " np.float64(0.5148285140645236),\n",
       " np.float64(0.6470983357276376),\n",
       " np.float64(0.32718409022282785),\n",
       " np.float64(0.536913199906199),\n",
       " np.float64(0.46647207740935903),\n",
       " np.float64(0.36054109069122),\n",
       " np.float64(0.40440350172401085),\n",
       " np.float64(0.35379299089438676),\n",
       " np.float64(0.4621508646609252),\n",
       " np.float64(0.45694474820789377),\n",
       " np.float64(0.5120795697222637),\n",
       " np.float64(0.4504173994328346),\n",
       " np.float64(0.45823245324669654),\n",
       " np.float64(0.5646229124721371),\n",
       " np.float64(0.536060689717192),\n",
       " np.float64(0.4526713868123359),\n",
       " np.float64(0.642508793592824),\n",
       " np.float64(0.3023992176735607),\n",
       " np.float64(0.5863675220123054),\n",
       " np.float64(0.4275210665972693),\n",
       " np.float64(0.4386201861557411),\n",
       " np.float64(0.5354885369239137),\n",
       " np.float64(0.47833284440441287),\n",
       " np.float64(0.4592969025218474),\n",
       " np.float64(0.5269938097459691),\n",
       " np.float64(0.449811366269731),\n",
       " np.float64(0.4228697657651418),\n",
       " np.float64(0.5223458369250642),\n",
       " np.float64(0.4470132553326076),\n",
       " np.float64(0.5123557202151846),\n",
       " np.float64(0.40552514317608385),\n",
       " np.float64(0.446598972356195),\n",
       " np.float64(0.50568945748448),\n",
       " np.float64(0.6476440911380377),\n",
       " np.float64(0.49564247548047224),\n",
       " np.float64(0.26318193406037116),\n",
       " np.float64(0.3803160659292332),\n",
       " np.float64(0.46015574229697265),\n",
       " np.float64(0.440535730171277),\n",
       " np.float64(0.41664074546892843),\n",
       " np.float64(0.5778252242527527),\n",
       " np.float64(0.4022820224697624),\n",
       " np.float64(0.5719060455499445),\n",
       " np.float64(0.4011524471265196),\n",
       " np.float64(0.49366849239722854),\n",
       " np.float64(0.46827725035020573),\n",
       " np.float64(0.40815262887596715),\n",
       " np.float64(0.31211890849839485),\n",
       " np.float64(0.44080457050306965),\n",
       " np.float64(0.33384732220635027),\n",
       " np.float64(0.5342732290638958),\n",
       " np.float64(0.44781770109305585),\n",
       " np.float64(0.5012739657279451),\n",
       " np.float64(0.563010555171205),\n",
       " np.float64(0.6079582228954988),\n",
       " np.float64(0.44244330044558017),\n",
       " np.float64(0.37344769490614454),\n",
       " np.float64(0.5049932605935878),\n",
       " np.float64(0.6932526594880087),\n",
       " np.float64(0.5047307188771827),\n",
       " np.float64(0.5080302268481316),\n",
       " np.float64(0.5830296683827989),\n",
       " np.float64(0.3329927779096698),\n",
       " np.float64(0.46284131842074083),\n",
       " np.float64(0.399812313712031),\n",
       " np.float64(0.432671545382203),\n",
       " np.float64(0.5273809463918132),\n",
       " np.float64(0.6939719168504954),\n",
       " np.float64(0.35580907516991794),\n",
       " np.float64(0.4730419059267473),\n",
       " np.float64(0.5121305373874676),\n",
       " np.float64(0.4079910485043188),\n",
       " np.float64(0.6998375779101147),\n",
       " np.float64(0.31531995193307266),\n",
       " np.float64(0.5062970579787938),\n",
       " np.float64(0.3709129251459945),\n",
       " np.float64(0.578409205172745),\n",
       " np.float64(0.3751393460837536),\n",
       " np.float64(0.4675319171699912),\n",
       " np.float64(0.6676239356400244),\n",
       " np.float64(0.32497480760236186),\n",
       " np.float64(0.5495214246146662),\n",
       " np.float64(0.6078611677570435),\n",
       " np.float64(0.6005167978741878),\n",
       " np.float64(0.4372331677891467),\n",
       " np.float64(0.2933943610360552),\n",
       " np.float64(0.6225248385454695),\n",
       " np.float64(0.40404828594782766),\n",
       " np.float64(0.6015216729937002),\n",
       " np.float64(0.48275291390469477),\n",
       " np.float64(0.35173682361050496),\n",
       " np.float64(0.39630514604442196),\n",
       " np.float64(0.549431541881037),\n",
       " np.float64(0.520227979368888),\n",
       " np.float64(0.4852180994612656),\n",
       " np.float64(0.41991058069702214),\n",
       " np.float64(0.4440566915904725),\n",
       " np.float64(0.49804255129812935),\n",
       " np.float64(0.43274612433478876),\n",
       " np.float64(0.5344554351029734),\n",
       " np.float64(0.5353941739285567),\n",
       " np.float64(0.3136108151995513),\n",
       " np.float64(0.48873820783847133),\n",
       " np.float64(0.5586676182568635),\n",
       " np.float64(0.4725847510655692),\n",
       " np.float64(0.476953315776045),\n",
       " np.float64(0.4888856438786623),\n",
       " np.float64(0.5306809043931677),\n",
       " np.float64(0.3585699419488557),\n",
       " np.float64(0.6429780799858427),\n",
       " np.float64(0.4308958880421624),\n",
       " np.float64(0.5156453259639184),\n",
       " np.float64(0.4036014008014995),\n",
       " np.float64(0.509816782897243),\n",
       " np.float64(0.46086720944746923),\n",
       " np.float64(0.4902213077643113),\n",
       " np.float64(0.5012538723599239),\n",
       " np.float64(0.5108767174794459),\n",
       " np.float64(0.2820342630224531),\n",
       " np.float64(0.38893755181729217),\n",
       " np.float64(0.4970303213439635),\n",
       " np.float64(0.44019421784649077),\n",
       " np.float64(0.48145603286820565),\n",
       " np.float64(0.5240256258810801),\n",
       " np.float64(0.4088797748505239),\n",
       " np.float64(0.46290430787508113),\n",
       " np.float64(0.5165315892152236),\n",
       " np.float64(0.3467248261763277),\n",
       " np.float64(0.3758315702594004),\n",
       " np.float64(0.7015325944654263),\n",
       " np.float64(0.3864917474230001),\n",
       " np.float64(0.39550487497844156),\n",
       " np.float64(0.4115166057990792),\n",
       " np.float64(0.4324910170361191),\n",
       " np.float64(0.41914491133344867),\n",
       " np.float64(0.46304418207294545),\n",
       " np.float64(0.35467322148673086),\n",
       " np.float64(0.413159847070631),\n",
       " np.float64(0.46721573361134033),\n",
       " np.float64(0.465790433443016),\n",
       " np.float64(0.5053221700473358),\n",
       " np.float64(0.46496386145749347),\n",
       " np.float64(0.36416901594947626),\n",
       " np.float64(0.5054232995476148),\n",
       " np.float64(0.46315601090631264),\n",
       " np.float64(0.5536232278690696),\n",
       " np.float64(0.3252748885842265),\n",
       " np.float64(0.5403452776538715),\n",
       " np.float64(0.4973427857353627),\n",
       " np.float64(0.43407891616130856),\n",
       " np.float64(0.5959502624582873),\n",
       " np.float64(0.45212239439014795),\n",
       " np.float64(0.4944281357318994),\n",
       " np.float64(0.36947242203784314),\n",
       " np.float64(0.535803831426984),\n",
       " np.float64(0.48428318619922006),\n",
       " np.float64(0.5606793165181355),\n",
       " np.float64(0.5114729566720116),\n",
       " np.float64(0.5174165985542217),\n",
       " np.float64(0.5592022632924794),\n",
       " np.float64(0.49956723615478543),\n",
       " np.float64(0.31759005584076816),\n",
       " np.float64(0.5859132601630704),\n",
       " np.float64(0.4882267381327596),\n",
       " np.float64(0.6346345375701292),\n",
       " np.float64(0.37410970161630736),\n",
       " np.float64(0.4523582870222828),\n",
       " np.float64(0.5002223490226095),\n",
       " ...]"
      ]
     },
     "execution_count": 88,
     "metadata": {},
     "output_type": "execute_result"
    }
   ],
   "source": [
    "Y_scores"
   ]
  },
  {
   "cell_type": "code",
   "execution_count": 126,
   "id": "3c02acfe",
   "metadata": {},
   "outputs": [
    {
     "data": {
      "application/vnd.plotly.v1+json": {
       "config": {
        "plotlyServerURL": "https://plot.ly"
       },
       "data": [
        {
         "line": {
          "color": "orange",
          "width": 3
         },
         "mode": "lines",
         "name": "ROC curve (AUC = 0.50)",
         "type": "scatter",
         "x": {
          "bdata": "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",
          "dtype": "f8"
         },
         "y": {
          "bdata": "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",
          "dtype": "f8"
         }
        },
        {
         "line": {
          "color": "gray",
          "dash": "dash"
         },
         "mode": "lines",
         "name": "Random Classifier",
         "type": "scatter",
         "x": [
          0,
          1
         ],
         "y": [
          0,
          1
         ]
        }
       ],
       "layout": {
        "height": 500,
        "legend": {
         "x": 0.65,
         "y": 0.05
        },
        "template": {
         "data": {
          "bar": [
           {
            "error_x": {
             "color": "#f2f5fa"
            },
            "error_y": {
             "color": "#f2f5fa"
            },
            "marker": {
             "line": {
              "color": "rgb(17,17,17)",
              "width": 0.5
             },
             "pattern": {
              "fillmode": "overlay",
              "size": 10,
              "solidity": 0.2
             }
            },
            "type": "bar"
           }
          ],
          "barpolar": [
           {
            "marker": {
             "line": {
              "color": "rgb(17,17,17)",
              "width": 0.5
             },
             "pattern": {
              "fillmode": "overlay",
              "size": 10,
              "solidity": 0.2
             }
            },
            "type": "barpolar"
           }
          ],
          "carpet": [
           {
            "aaxis": {
             "endlinecolor": "#A2B1C6",
             "gridcolor": "#506784",
             "linecolor": "#506784",
             "minorgridcolor": "#506784",
             "startlinecolor": "#A2B1C6"
            },
            "baxis": {
             "endlinecolor": "#A2B1C6",
             "gridcolor": "#506784",
             "linecolor": "#506784",
             "minorgridcolor": "#506784",
             "startlinecolor": "#A2B1C6"
            },
            "type": "carpet"
           }
          ],
          "choropleth": [
           {
            "colorbar": {
             "outlinewidth": 0,
             "ticks": ""
            },
            "type": "choropleth"
           }
          ],
          "contour": [
           {
            "colorbar": {
             "outlinewidth": 0,
             "ticks": ""
            },
            "colorscale": [
             [
              0,
              "#0d0887"
             ],
             [
              0.1111111111111111,
              "#46039f"
             ],
             [
              0.2222222222222222,
              "#7201a8"
             ],
             [
              0.3333333333333333,
              "#9c179e"
             ],
             [
              0.4444444444444444,
              "#bd3786"
             ],
             [
              0.5555555555555556,
              "#d8576b"
             ],
             [
              0.6666666666666666,
              "#ed7953"
             ],
             [
              0.7777777777777778,
              "#fb9f3a"
             ],
             [
              0.8888888888888888,
              "#fdca26"
             ],
             [
              1,
              "#f0f921"
             ]
            ],
            "type": "contour"
           }
          ],
          "contourcarpet": [
           {
            "colorbar": {
             "outlinewidth": 0,
             "ticks": ""
            },
            "type": "contourcarpet"
           }
          ],
          "heatmap": [
           {
            "colorbar": {
             "outlinewidth": 0,
             "ticks": ""
            },
            "colorscale": [
             [
              0,
              "#0d0887"
             ],
             [
              0.1111111111111111,
              "#46039f"
             ],
             [
              0.2222222222222222,
              "#7201a8"
             ],
             [
              0.3333333333333333,
              "#9c179e"
             ],
             [
              0.4444444444444444,
              "#bd3786"
             ],
             [
              0.5555555555555556,
              "#d8576b"
             ],
             [
              0.6666666666666666,
              "#ed7953"
             ],
             [
              0.7777777777777778,
              "#fb9f3a"
             ],
             [
              0.8888888888888888,
              "#fdca26"
             ],
             [
              1,
              "#f0f921"
             ]
            ],
            "type": "heatmap"
           }
          ],
          "histogram": [
           {
            "marker": {
             "pattern": {
              "fillmode": "overlay",
              "size": 10,
              "solidity": 0.2
             }
            },
            "type": "histogram"
           }
          ],
          "histogram2d": [
           {
            "colorbar": {
             "outlinewidth": 0,
             "ticks": ""
            },
            "colorscale": [
             [
              0,
              "#0d0887"
             ],
             [
              0.1111111111111111,
              "#46039f"
             ],
             [
              0.2222222222222222,
              "#7201a8"
             ],
             [
              0.3333333333333333,
              "#9c179e"
             ],
             [
              0.4444444444444444,
              "#bd3786"
             ],
             [
              0.5555555555555556,
              "#d8576b"
             ],
             [
              0.6666666666666666,
              "#ed7953"
             ],
             [
              0.7777777777777778,
              "#fb9f3a"
             ],
             [
              0.8888888888888888,
              "#fdca26"
             ],
             [
              1,
              "#f0f921"
             ]
            ],
            "type": "histogram2d"
           }
          ],
          "histogram2dcontour": [
           {
            "colorbar": {
             "outlinewidth": 0,
             "ticks": ""
            },
            "colorscale": [
             [
              0,
              "#0d0887"
             ],
             [
              0.1111111111111111,
              "#46039f"
             ],
             [
              0.2222222222222222,
              "#7201a8"
             ],
             [
              0.3333333333333333,
              "#9c179e"
             ],
             [
              0.4444444444444444,
              "#bd3786"
             ],
             [
              0.5555555555555556,
              "#d8576b"
             ],
             [
              0.6666666666666666,
              "#ed7953"
             ],
             [
              0.7777777777777778,
              "#fb9f3a"
             ],
             [
              0.8888888888888888,
              "#fdca26"
             ],
             [
              1,
              "#f0f921"
             ]
            ],
            "type": "histogram2dcontour"
           }
          ],
          "mesh3d": [
           {
            "colorbar": {
             "outlinewidth": 0,
             "ticks": ""
            },
            "type": "mesh3d"
           }
          ],
          "parcoords": [
           {
            "line": {
             "colorbar": {
              "outlinewidth": 0,
              "ticks": ""
             }
            },
            "type": "parcoords"
           }
          ],
          "pie": [
           {
            "automargin": true,
            "type": "pie"
           }
          ],
          "scatter": [
           {
            "marker": {
             "line": {
              "color": "#283442"
             }
            },
            "type": "scatter"
           }
          ],
          "scatter3d": [
           {
            "line": {
             "colorbar": {
              "outlinewidth": 0,
              "ticks": ""
             }
            },
            "marker": {
             "colorbar": {
              "outlinewidth": 0,
              "ticks": ""
             }
            },
            "type": "scatter3d"
           }
          ],
          "scattercarpet": [
           {
            "marker": {
             "colorbar": {
              "outlinewidth": 0,
              "ticks": ""
             }
            },
            "type": "scattercarpet"
           }
          ],
          "scattergeo": [
           {
            "marker": {
             "colorbar": {
              "outlinewidth": 0,
              "ticks": ""
             }
            },
            "type": "scattergeo"
           }
          ],
          "scattergl": [
           {
            "marker": {
             "line": {
              "color": "#283442"
             }
            },
            "type": "scattergl"
           }
          ],
          "scattermap": [
           {
            "marker": {
             "colorbar": {
              "outlinewidth": 0,
              "ticks": ""
             }
            },
            "type": "scattermap"
           }
          ],
          "scattermapbox": [
           {
            "marker": {
             "colorbar": {
              "outlinewidth": 0,
              "ticks": ""
             }
            },
            "type": "scattermapbox"
           }
          ],
          "scatterpolar": [
           {
            "marker": {
             "colorbar": {
              "outlinewidth": 0,
              "ticks": ""
             }
            },
            "type": "scatterpolar"
           }
          ],
          "scatterpolargl": [
           {
            "marker": {
             "colorbar": {
              "outlinewidth": 0,
              "ticks": ""
             }
            },
            "type": "scatterpolargl"
           }
          ],
          "scatterternary": [
           {
            "marker": {
             "colorbar": {
              "outlinewidth": 0,
              "ticks": ""
             }
            },
            "type": "scatterternary"
           }
          ],
          "surface": [
           {
            "colorbar": {
             "outlinewidth": 0,
             "ticks": ""
            },
            "colorscale": [
             [
              0,
              "#0d0887"
             ],
             [
              0.1111111111111111,
              "#46039f"
             ],
             [
              0.2222222222222222,
              "#7201a8"
             ],
             [
              0.3333333333333333,
              "#9c179e"
             ],
             [
              0.4444444444444444,
              "#bd3786"
             ],
             [
              0.5555555555555556,
              "#d8576b"
             ],
             [
              0.6666666666666666,
              "#ed7953"
             ],
             [
              0.7777777777777778,
              "#fb9f3a"
             ],
             [
              0.8888888888888888,
              "#fdca26"
             ],
             [
              1,
              "#f0f921"
             ]
            ],
            "type": "surface"
           }
          ],
          "table": [
           {
            "cells": {
             "fill": {
              "color": "#506784"
             },
             "line": {
              "color": "rgb(17,17,17)"
             }
            },
            "header": {
             "fill": {
              "color": "#2a3f5f"
             },
             "line": {
              "color": "rgb(17,17,17)"
             }
            },
            "type": "table"
           }
          ]
         },
         "layout": {
          "annotationdefaults": {
           "arrowcolor": "#f2f5fa",
           "arrowhead": 0,
           "arrowwidth": 1
          },
          "autotypenumbers": "strict",
          "coloraxis": {
           "colorbar": {
            "outlinewidth": 0,
            "ticks": ""
           }
          },
          "colorscale": {
           "diverging": [
            [
             0,
             "#8e0152"
            ],
            [
             0.1,
             "#c51b7d"
            ],
            [
             0.2,
             "#de77ae"
            ],
            [
             0.3,
             "#f1b6da"
            ],
            [
             0.4,
             "#fde0ef"
            ],
            [
             0.5,
             "#f7f7f7"
            ],
            [
             0.6,
             "#e6f5d0"
            ],
            [
             0.7,
             "#b8e186"
            ],
            [
             0.8,
             "#7fbc41"
            ],
            [
             0.9,
             "#4d9221"
            ],
            [
             1,
             "#276419"
            ]
           ],
           "sequential": [
            [
             0,
             "#0d0887"
            ],
            [
             0.1111111111111111,
             "#46039f"
            ],
            [
             0.2222222222222222,
             "#7201a8"
            ],
            [
             0.3333333333333333,
             "#9c179e"
            ],
            [
             0.4444444444444444,
             "#bd3786"
            ],
            [
             0.5555555555555556,
             "#d8576b"
            ],
            [
             0.6666666666666666,
             "#ed7953"
            ],
            [
             0.7777777777777778,
             "#fb9f3a"
            ],
            [
             0.8888888888888888,
             "#fdca26"
            ],
            [
             1,
             "#f0f921"
            ]
           ],
           "sequentialminus": [
            [
             0,
             "#0d0887"
            ],
            [
             0.1111111111111111,
             "#46039f"
            ],
            [
             0.2222222222222222,
             "#7201a8"
            ],
            [
             0.3333333333333333,
             "#9c179e"
            ],
            [
             0.4444444444444444,
             "#bd3786"
            ],
            [
             0.5555555555555556,
             "#d8576b"
            ],
            [
             0.6666666666666666,
             "#ed7953"
            ],
            [
             0.7777777777777778,
             "#fb9f3a"
            ],
            [
             0.8888888888888888,
             "#fdca26"
            ],
            [
             1,
             "#f0f921"
            ]
           ]
          },
          "colorway": [
           "#636efa",
           "#EF553B",
           "#00cc96",
           "#ab63fa",
           "#FFA15A",
           "#19d3f3",
           "#FF6692",
           "#B6E880",
           "#FF97FF",
           "#FECB52"
          ],
          "font": {
           "color": "#f2f5fa"
          },
          "geo": {
           "bgcolor": "rgb(17,17,17)",
           "lakecolor": "rgb(17,17,17)",
           "landcolor": "rgb(17,17,17)",
           "showlakes": true,
           "showland": true,
           "subunitcolor": "#506784"
          },
          "hoverlabel": {
           "align": "left"
          },
          "hovermode": "closest",
          "mapbox": {
           "style": "dark"
          },
          "paper_bgcolor": "rgb(17,17,17)",
          "plot_bgcolor": "rgb(17,17,17)",
          "polar": {
           "angularaxis": {
            "gridcolor": "#506784",
            "linecolor": "#506784",
            "ticks": ""
           },
           "bgcolor": "rgb(17,17,17)",
           "radialaxis": {
            "gridcolor": "#506784",
            "linecolor": "#506784",
            "ticks": ""
           }
          },
          "scene": {
           "xaxis": {
            "backgroundcolor": "rgb(17,17,17)",
            "gridcolor": "#506784",
            "gridwidth": 2,
            "linecolor": "#506784",
            "showbackground": true,
            "ticks": "",
            "zerolinecolor": "#C8D4E3"
           },
           "yaxis": {
            "backgroundcolor": "rgb(17,17,17)",
            "gridcolor": "#506784",
            "gridwidth": 2,
            "linecolor": "#506784",
            "showbackground": true,
            "ticks": "",
            "zerolinecolor": "#C8D4E3"
           },
           "zaxis": {
            "backgroundcolor": "rgb(17,17,17)",
            "gridcolor": "#506784",
            "gridwidth": 2,
            "linecolor": "#506784",
            "showbackground": true,
            "ticks": "",
            "zerolinecolor": "#C8D4E3"
           }
          },
          "shapedefaults": {
           "line": {
            "color": "#f2f5fa"
           }
          },
          "sliderdefaults": {
           "bgcolor": "#C8D4E3",
           "bordercolor": "rgb(17,17,17)",
           "borderwidth": 1,
           "tickwidth": 0
          },
          "ternary": {
           "aaxis": {
            "gridcolor": "#506784",
            "linecolor": "#506784",
            "ticks": ""
           },
           "baxis": {
            "gridcolor": "#506784",
            "linecolor": "#506784",
            "ticks": ""
           },
           "bgcolor": "rgb(17,17,17)",
           "caxis": {
            "gridcolor": "#506784",
            "linecolor": "#506784",
            "ticks": ""
           }
          },
          "title": {
           "x": 0.05
          },
          "updatemenudefaults": {
           "bgcolor": "#506784",
           "borderwidth": 0
          },
          "xaxis": {
           "automargin": true,
           "gridcolor": "#283442",
           "linecolor": "#506784",
           "ticks": "",
           "title": {
            "standoff": 15
           },
           "zerolinecolor": "#283442",
           "zerolinewidth": 2
          },
          "yaxis": {
           "automargin": true,
           "gridcolor": "#283442",
           "linecolor": "#506784",
           "ticks": "",
           "title": {
            "standoff": 15
           },
           "zerolinecolor": "#283442",
           "zerolinewidth": 2
          }
         }
        },
        "title": {
         "text": "ROC Curve (Quantum Classifier)"
        },
        "width": 700,
        "xaxis": {
         "title": {
          "text": "False Positive Rate"
         }
        },
        "yaxis": {
         "title": {
          "text": "True Positive Rate"
         }
        }
       }
      }
     },
     "metadata": {},
     "output_type": "display_data"
    }
   ],
   "source": [
    "fig = go.Figure()\n",
    "\n",
    "# 3. Add ROC curve trace\n",
    "fig.add_trace(go.Scatter(\n",
    "    x=fpr, y=tpr,\n",
    "    mode='lines',\n",
    "    name=f'ROC curve (AUC = {roc_auc:.2f})',\n",
    "    line=dict(color='orange', width=3)\n",
    "))\n",
    "\n",
    "# 4. Add diagonal line (random baseline)\n",
    "fig.add_trace(go.Scatter(\n",
    "    x=[0, 1], y=[0, 1],\n",
    "    mode='lines',\n",
    "    name='Random Classifier',\n",
    "    line=dict(color='gray', dash='dash')\n",
    "))\n",
    "\n",
    "# 5. Customize layout\n",
    "fig.update_layout(\n",
    "    title='ROC Curve (Quantum Classifier)',\n",
    "    xaxis_title='False Positive Rate',\n",
    "    yaxis_title='True Positive Rate',\n",
    "    legend=dict(x=0.65, y=0.05),\n",
    "    width=700,\n",
    "    height=500,\n",
    "    template='plotly_dark'\n",
    ")\n",
    "\n",
    "# 6. Show the plot\n",
    "fig.show()\n"
   ]
  },
  {
   "cell_type": "code",
   "execution_count": 130,
   "id": "e684bf41",
   "metadata": {},
   "outputs": [
    {
     "data": {
      "application/vnd.plotly.v1+json": {
       "config": {
        "plotlyServerURL": "https://plot.ly"
       },
       "data": [
        {
         "line": {
          "color": "cyan"
         },
         "mode": "lines",
         "name": "Model ROC",
         "type": "scatter",
         "x": {
          "bdata": "AAAAAAAAAACswO2JiyxRP6zA7YmLLGE/rMDtiYssYT8CoeRO0cJpPwKh5E7Rwmk/rMDtiYsscT+swO2JiyxxP9cwaWyud3U/1zBpbK53dT8CoeRO0cJ5PwKh5E7Rwnk/LRFgMfQNfj8tEWAx9A1+P8F4K/scUoM/wXgr+xxSgz8CoeRO0cKJPwKh5E7Rwok/F1kiwGLoiz8XWSLAYuiLPy0RYDH0DY4/LRFgMfQNjj+2nIxCVD+SP7acjEJUP5I/wXgr+xxSkz/BeCv7HFKTP8xUyrPlZJQ/zFTKs+VklD/hDAgld4qWP+EMCCV3ipY/98RFlgiwmD/3xEWWCLCYPwx9gwea1Zo/DH2DB5rVmj8XWSLAYuibPxdZIsBi6Js/N+3+6bwgnz837f7pvCCfP6HkTtHCGaA/oeRO0cIZoD+mUp4tJ6OgP6ZSni0no6A/sS495u+1oT+xLj3m77WhP7acjEJUP6I/tpyMQlQ/oj/H5npXgdujP8fmeleB26M/zFTKs+VkpD/MVMqz5WSkP9HCGRBK7qQ/0cIZEErupD/XMGlsrnelP9cwaWyud6U/3J64yBIBpj/cnrjIEgGmP+d6V4HbE6c/53pXgdsTpz8HDzSrNUyqPwcPNKs1TKo/DH2DB5rVqj8MfYMHmtWqPyI1wXgr+6w/IjXBeCv7rD8noxDVj4StPyejENWPhK0/LRFgMfQNrj8tEWAx9A2uPzft/um8IK8/N+3+6bwgrz+h5E7RwhmwP6HkTtHCGbA/sS495u+1sT+xLj3m77WxP7lTtHAGhLI/uVO0cAaEsj/BeCv7HFKzP8F4K/scUrM/xC9TKc+Wsz/EL1Mpz5azP8xUyrPlZLQ/zFTKs+VktD/RwhkQSu60P9HCGRBK7rQ/1zBpbK53tT/XMGlsrne1P9nnkJpgvLU/2eeQmmC8tT/cnrjIEgG2P9yeuMgSAbY/4QwIJXeKtj/hDAgld4q2P+kxf6+NWLc/6TF/r41Ytz/s6KbdP523P+zopt0/nbc/75/OC/Lhtz/vn84L8uG3P/JW9jmkJrg/8lb2OaQmuD/0DR5oVmu4P/QNHmhWa7g/98RFlgiwuD/3xEWWCLC4PwKh5E7Rwrk/AqHkTtHCuT8KxlvZ55C6PwrGW9nnkLo/F1kiwGLouz8XWSLAYui7PzU217sK3L4/NTbXuwrcvj86pCYYb2W/PzqkJhhvZb8/PxJ2dNPuvz8/EnZ00+6/PyV3ihbOgMA/JXeKFs6AwD8oLrJEgMXAPyguskSAxcA/qQnGW9nnwD+pCcZb2efAP6zA7YmLLME/rMDtiYsswT8tnAGh5E7BPy2cAaHkTsE/sS495u+1wT+xLj3m77XBPzIKUf1I2ME/MgpR/UjYwT+5U7RwBoTCP7lTtHAGhMI/Oi/Ih1+mwj86L8iHX6bCP7wK3J64yMI/vArcnrjIwj895u+1EevCPz3m77UR68I/v8EDzWoNwz+/wQPNag3DP0NUPxJ2dMM/Q1Q/EnZ0wz/EL1Mpz5bDP8QvUynPlsM/RQtnQCi5wz9FC2dAKLnDP8fmeleB28M/x+Z6V4Hbwz9LebacjELEP0t5tpyMQsQ/zwvy4ZepxD/PC/Lhl6nEP1VVVVVVVcU/VVVVVVVVxT9YDH2DB5rFP1gMfYMHmsU/2eeQmmC8xT/Z55CaYLzFP1vDpLG53sU/W8OksbnexT/cnrjIEgHGP9yeuMgSAcY/XXrM32sjxj9deszfayPGP99V4PbERcY/31Xg9sRFxj9gMfQNHmjGP2Ax9A0eaMY/Y+gbPNCsxj9j6Bs80KzGP2WfQ2qC8cY/ZZ9DaoLxxj/neleB2xPHP+d6V4HbE8c/aFZrmDQ2xz9oVmuYNDbHP+kxf6+NWMc/6TF/r41Yxz9rDZPG5nrHP2sNk8bmesc/7Oim3T+dxz/s6KbdP53HP23EuvSYv8c/bcS69Ji/xz/yVvY5pCbIP/JW9jmkJsg/dukxf6+NyD926TF/r43IP/fERZYIsMg/98RFlgiwyD94oFmtYdLIP3igWa1h0sg/+nttxLr0yD/6e23EuvTIP3tXgdsTF8k/e1eB2xMXyT9+DqkJxlvJP34OqQnGW8k//+m8IB9+yT//6bwgH37JP4DF0Dd4oMk/gMXQN3igyT+DfPhlKuXJP4N8+GUq5ck/BFgMfYMHyj8EWAx9gwfKPwcPNKs1TMo/Bw80qzVMyj+I6kfCjm7KP4jqR8KObso/CsZb2eeQyj8KxlvZ55DKP4uhb/BAs8o/i6Fv8ECzyj+OWJce8/fKP45Ylx7z98o/DzSrNUwayz8PNKs1TBrLP5PG5npXgcs/k8bmeleByz+WfQ6pCcbLP5Z9DqkJxss/F1kiwGLoyz8XWSLAYujLP5g0Nte7Csw/mDQ217sKzD+b610Fbk/MP5vrXQVuT8w/HMdxHMdxzD8cx3Ecx3HMPx9+mUp5tsw/H36ZSnm2zD8iNcF4K/vMPyI1wXgr+8w/oxDVj4QdzT+jENWPhB3NPyejENWPhM0/J6MQ1Y+EzT+u7HNITTDOP67sc0hNMM4/L8iHX6ZSzj8vyIdfplLOP7Gjm3b/dM4/saObdv90zj8yf6+NWJfOPzJ/r41Yl84/N+3+6bwgzz837f7pvCDPP7t/Oi/Ih88/u386L8iHzz89W05GIarPPz1bTkYhqs8/vjZiXXrMzz++NmJdeszPP+D2xEWWCNA/4PbERZYI0D8iwGLoGzzQPyLAYugbPNA/463sc0hN0D/jrexzSE3QPyguskSAxdA/KC6yRIDF0D+pCcZb2efQP6kJxlvZ59A/LZwBoeRO0T8tnAGh5E7RP+6JiywRYNE/7omLLBFg0T+udxW4PXHRP653Fbg9cdE/chzHcRzH0T9yHMdxHMfRP/P32oh16dE/8/faiHXp0T+05WQUovrRP7TlZBSi+tE/NcF4K/sc0j81wXgr+xzSP/hlKuXZctI/+GUq5dly0j+5U7RwBoTSP7lTtHAGhNI/Oi/Ih1+m0j86L8iHX6bSP/scUhOMt9I/+xxSE4y30j+8CtyeuMjSP7wK3J64yNI/PebvtRHr0j895u+1EevSP7/BA81qDdM/v8EDzWoN0z9/r41Ylx7TP3+vjViXHtM/Q1Q/EnZ00z9DVD8SdnTTP4Ud3bT7p9M/hR3dtPun0z9FC2dAKLnTP0ULZ0AoudM/Bvnwy1TK0z8G+fDLVMrTPwmwGPoGD9Q/CbAY+gYP1D+NQlQ/EnbUP41CVD8SdtQ/j/l7bcS61D+P+XttxLrUPxHVj4Qd3dQ/EdWPhB3d1D+VZ8vJKETVP5Vny8koRNU/FkPf4IFm1T8WQ9/ggWbVP9cwaWyud9U/1zBpbK531T+XHvP32ojVP5ce8/faiNU/WAx9gwea1T9YDH2DB5rVPxuxLj3m79U/G7EuPebv1T/cnrjIEgHWP9yeuMgSAdY/nYxCVD8S1j+djEJUPxLWPx5oVmuYNNY/HmhWa5g01j+fQ2qC8VbWP59DaoLxVtY/IR9+mUp51j8hH36ZSnnWP+EMCCV3itY/4QwIJXeK1j8j1qXH/L3WPyPWpcf8vdY/5MMvUynP1j/kwy9TKc/WP6Wxud5V4NY/pbG53lXg1j9ln0NqgvHWP2WfQ2qC8dY/p2jhDAgl1z+naOEMCCXXP2hWa5g0Ntc/aFZrmDQ21z/pMX+vjVjXP+kxf6+NWNc/qh8JO7pp1z+qHwk7umnXPyv7HFITjNc/K/scUhOM1z/s6KbdP53XP+zopt0/ndc/rdYwaWyu1z+t1jBpbK7XP23EuvSYv9c/bcS69Ji/1z8uskSAxdDXPy6yRIDF0Nc/75/OC/Lh1z/vn84L8uHXP6+NWJce89c/r41Ylx7z1z8xaWyudxXYPzFpbK53Fdg/skSAxdA32D+yRIDF0DfYP3MyClH9SNg/czIKUf1I2D/0DR5oVmvYP/QNHmhWa9g/tfun84J82D+1+6fzgnzYPzbXuwrcntg/Nte7Ctye2D94oFmtYdLYP3igWa1h0tg/OY7jOI7j2D85juM4juPYP7pp90/nBdk/umn3T+cF2T97V4HbExfZP3tXgdsTF9k/PEULZ0Ao2T88RQtnQCjZP34OqQnGW9k/fg6pCcZb2T8+/DKV8mzZPz78MpXybNk//+m8IB9+2T//6bwgH37ZP8DXRqxLj9k/wNdGrEuP2T8CoeRO0cLZPwKh5E7Rwtk/g3z4ZSrl2T+DfPhlKuXZPwRYDH2DB9o/BFgMfYMH2j/FRZYIsBjaP8VFlgiwGNo/iOpHwo5u2j+I6kfCjm7aP0nY0U27f9o/SdjRTbt/2j/Ks+VkFKLaP8qz5WQUoto/TI/5e23E2j9Mj/l7bcTaP45Ylx7z99o/jliXHvP32j9ORiGqHwnbP05GIaofCds/kA+/TKU82z+QD79MpTzbP1H9SNjRTds/Uf1I2NFN2z+TxuZ6V4HbP5PG5npXgds/FKL6kbCj2z8UovqRsKPbP9WPhB3dtNs/1Y+EHd202z9Wa5g0NtfbP1ZrmDQ219s/mDQ217sK3D+YNDbXuwrcP1kiwGLoG9w/WSLAYugb3D8aEEruFC3cPxoQSu4ULdw/2v3TeUE+3D/a/dN5QT7cP5vrXQVuT9w/m+tdBW5P3D8cx3Ecx3HcPxzHcRzHcdw/H36ZSnm23D8ffplKebbcP+BrI9alx9w/4Gsj1qXH3D9hRzft/uncP2FHN+3+6dw/4iJLBFgM3T/iIksEWAzdP6MQ1Y+EHd0/oxDVj4Qd3T/l2XIyClHdP+XZcjIKUd0/psf8vTZi3T+mx/y9NmLdPyejENWPhN0/J6MQ1Y+E3T+pfiTs6KbdP6l+JOzopt0/Klo4A0LJ3T8qWjgDQsndP+tHwo5u2t0/60fCjm7a3T9sI9alx/zdP2wj1qXH/N0/7f7pvCAf3j/t/um8IB/ePy/Ih1+mUt4/L8iHX6ZS3j9xkSUCLIbeP3GRJQIsht4/Mn+vjViX3j8yf6+NWJfeP/NsORmFqN4/82w5GYWo3j81Nte7CtzePzU217sK3N4/thHr0mP+3j+2EevSY/7eP3f/dF6QD98/d/90XpAP3z837f7pvCDfPzft/um8IN8/+NqIdekx3z/42oh16THfP7nIEgEWQ98/ucgSARZD3z95tpyMQlTfP3m2nIxCVN8/OqQmGG9l3z86pCYYb2XfP/uRsKObdt8/+5Gwo5t23z+7fzovyIffP7t/Oi/Ih98/fG3EuvSY3z98bcS69JjfPz1bTkYhqt8/PVtORiGq3z/9SNjRTbvfP/1I2NFNu98/vjZiXXrM3z++NmJdeszfP38k7Oim3d8/fyTs6Kbd3z/B7YmLLBHgP8HtiYssEeA/YtLYXO8q4D9i0thc7yrgP0LJnaKFM+A/QsmdooUz4D8iwGLoGzzgPyLAYugbPOA/A7cnLrJE4D8DtycuskTgP4SSO0ULZ+A/hJI7RQtn4D9FgMXQN3jgP0WAxdA3eOA/JXeKFs6A4D8ld4oWzoDgPwVuT1xkieA/BW5PXGSJ4D/mZBSi+pHgP+ZkFKL6keA/plKeLSej4D+mUp4tJ6PgP4dJY3O9q+A/h0ljc72r4D9HN+3+6bzgP0c37f7pvOA/KC6yRIDF4D8oLrJEgMXgPwgld4oWzuA/CCV3ihbO4D/oGzzQrNbgP+gbPNCs1uA/iQCLoW/w4D+JAIuhb/DgP0ruFC2cAeE/Su4ULZwB4T8q5dlyMgrhPyrl2XIyCuE/y8koRPUj4T/LyShE9SPhP29ln0NqguE/b2WfQ2qC4T9PXGSJAIvhP09cZIkAi+E/MFMpz5aT4T8wUynPlpPhPxBK7hQtnOE/EEruFC2c4T/wQLNaw6ThP/BAs1rDpOE/chzHcRzH4T9yHMdxHMfhP1ITjLeyz+E/UhOMt7LP4T/T7p/OC/LhP9Pun84L8uE/lNwpWjgD4j+U3ClaOAPiP3TT7p/OC+I/dNPun84L4j8VuD1xkSXiPxW4PXGRJeI/9q4Ctycu4j/2rgK3Jy7iP9alx/y9NuI/1qXH/L024j+2nIxCVD/iP7acjEJUP+I/l5NRiOpH4j+Xk1GI6kfiPxhvZZ9DauI/GG9ln0Nq4j/ZXO8qcHviP9lc7ypwe+I/uVO0cAaE4j+5U7RwBoTiP5lKebacjOI/mUp5tpyM4j96QT78MpXiP3pBPvwyleI/WjgDQsmd4j9aOANCyZ3iPzovyIdfpuI/Oi/Ih1+m4j+8CtyeuMjiP7wK3J64yOI/nAGh5E7R4j+cAaHkTtHiP13vKnB74uI/Xe8qcHvi4j8e3bT7p/PiPx7dtPun8+I/f6+NWJce4z9/r41Ylx7jP2CmUp4tJ+M/YKZSni0n4z9AnRfkwy/jP0CdF+TDL+M/IJTcKVo44z8glNwpWjjjP+GBZrWGSeM/4YFmtYZJ4z/BeCv7HFLjP8F4K/scUuM/om/wQLNa4z+ib/BAs1rjP4JmtYZJY+M/gma1hklj4z9DVD8SdnTjP0NUPxJ2dOM/I0sEWAx94z8jSwRYDH3jPwNCyZ2iheM/A0LJnaKF4z/kOI7jOI7jP+Q4juM4juM/xC9TKc+W4z/EL1Mpz5bjP6QmGG9ln+M/pCYYb2Wf4z9FC2dAKLnjP0ULZ0AoueM/JgIshr7B4z8mAiyGvsHjPwb58MtUyuM/Bvnwy1TK4z/m77UR69LjP+bvtRHr0uM/x+Z6V4Hb4z/H5npXgdvjP2jLyShE9eM/aMvJKET14z8ouVO0cAbkPyi5U7RwBuQ/CbAY+gYP5D8JsBj6Bg/kP+mm3T+dF+Q/6abdP50X5D+qlGfLySjkP6qUZ8vJKOQ/iossEWAx5D+KiywRYDHkP2qC8Vb2OeQ/aoLxVvY55D9LebacjELkP0t5tpyMQuQ/C2dAKLlT5D8LZ0AouVPkP+xdBW5PXOQ/7F0Fbk9c5D/MVMqz5WTkP8xUyrPlZOQ/rEuP+Xtt5D+sS4/5e23kP205GYWofuQ/bTkZhah+5D9NMN7KPofkP00w3so+h+Q/LiejENWP5D8uJ6MQ1Y/kP+4ULZwBoeQ/7hQtnAGh5D/PC/Lhl6nkP88L8uGXqeQ/cPBAs1rD5D9w8ECzWsPkP1DnBfnwy+Q/UOcF+fDL5D8w3so+h9TkPzDeyj6H1OQ/EdWPhB3d5D8R1Y+EHd3kPzOV8mw5GeU/M5XybDkZ5T+0cAaEkjvlP7RwBoSSO+U/dV6QD79M5T91XpAPv0zlPxZD3+CBZuU/FkPf4IFm5T+3Jy6yRIDlP7cnLrJEgOU/WAx9gwea5T9YDH2DB5rlP/nwy1TKs+U/+fDLVMqz5T/Z55CaYLzlP9nnkJpgvOU/eszfayPW5T96zN9rI9blPzu6afdP5+U/O7pp90/n5T/8p/OCfPjlP/yn84J8+OU/3J64yBIB5j/cnrjIEgHmP52MQlQ/EuY/nYxCVD8S5j/fVeD2xEXmP99V4PbEReY/n0NqgvFW5j+fQ2qC8VbmP2Ax9A0eaOY/YDH0DR5o5j9AKLlTtHDmP0AouVO0cOY/ARZD3+CB5j8BFkPf4IHmP+EMCCV3iuY/4QwIJXeK5j9j6Bs80KzmP2PoGzzQrOY/5MMvUynP5j/kwy9TKc/mP6Wxud5V4OY/pbG53lXg5j+FqH4k7OjmP4WofiTs6OY/ZZ9DaoLx5j9ln0NqgvHmP0aWCLAY+uY/RpYIsBj65j8GhJI7RQvnPwaEkjtFC+c/p2jhDAgl5z+naOEMCCXnP4hfplKeLec/iF+mUp4t5z9oVmuYNDbnP2hWa5g0Nuc/yihE9SNh5z/KKET1I2HnPyv7HFITjOc/K/scUhOM5z+NzfWuArfnP43N9a4Ct+c/Trt/Oi/I5z9Ou386L8jnPy6yRIDF0Oc/LrJEgMXQ5z8OqQnGW9nnPw6pCcZb2ec/75/OC/Lh5z/vn84L8uHnP3B74iJLBOg/cHviIksE6D8RYDH0DR7oPxFgMfQNHug/8lb2OaQm6D/yVvY5pCboP5M7RQtnQOg/kztFC2dA6D9zMgpR/UjoP3MyClH9SOg/UynPlpNR6D9TKc+Wk1HoPzQglNwpWug/NCCU3Cla6D/0DR5oVmvoP/QNHmhWa+g/tfun84J86D+1+6fzgnzoP5XybDkZheg/lfJsORmF6D926TF/r43oP3bpMX+vjeg/VuD2xEWW6D9W4PbERZboPzbXuwrcnug/Nte7Ctye6D/XuwrcnrjoP9e7CtyeuOg/uLLPITXB6D+4ss8hNcHoPxmFqH4k7Og/GYWofiTs6D/6e23EuvToP/p7bcS69Og/2nIyClH96D/acjIKUf3oP7pp90/nBek/umn3T+cF6T+bYLyVfQ7pP5tgvJV9Duk/e1eB2xMX6T97V4HbExfpPzxFC2dAKOk/PEULZ0Ao6T/8MpXybDnpP/wylfJsOek/fg6pCcZb6T9+DqkJxlvpPz78MpXybOk/PvwylfJs6T//6bwgH37pP//pvCAffuk/3+CBZrWG6T/f4IFmtYbpP8DXRqxLj+k/wNdGrEuP6T9hvJV9DqnpP2G8lX0Oqek/QbNaw6Sx6T9Bs1rDpLHpPyGqHwk7uuk/IaofCTu66T9jc72rwO3pP2NzvavA7ek/RGqC8Vb26T9EaoLxVvbpPwRYDH2DB+o/BFgMfYMH6j+lPFtORiHqP6U8W05GIeo/hjMglNwp6j+GMyCU3CnqP0Yhqh8JO+o/RiGqHwk76j8nGG9ln0PqPycYb2WfQ+o/Bw80qzVM6j8HDzSrNUzqP+cF+fDLVOo/5wX58MtU6j/I/L02Yl3qP8j8vTZiXeo/iOpHwo5u6j+I6kfCjm7qP8qz5WQUouo/yrPlZBSi6j+rqqqqqqrqP6uqqqqqquo/TI/5e23E6j9Mj/l7bcTqP45Ylx7z9+o/jliXHvP36j/vKnB74iLrP+8qcHviIus/kA+/TKU86z+QD79MpTzrPzH0DR5oVus/MfQNHmhW6z8S69Jj/l7rPxLr0mP+Xus/8uGXqZRn6z/y4ZeplGfrP5PG5npXges/k8bmeleB6z80qzVMGpvrPzSrNUwam+s/FKL6kbCj6z8UovqRsKPrP/WYv9dGrOs/9Zi/10as6z/Vj4Qd3bTrP9WPhB3dtOs/tYZJY3O96z+1hkljc73rP5Z9DqkJxus/ln0OqQnG6z92dNPun87rP3Z00+6fzus/N2Jdeszf6z83Yl16zN/rP/dP5wX58Os/90/nBfnw6z/YRqxLj/nrP9hGrEuP+es/uD1xkSUC7D+4PXGRJQLsP5g0Nte7Cuw/mDQ217sK7D9ZIsBi6BvsP1kiwGLoG+w/GhBK7hQt7D8aEEruFC3sP9r903lBPuw/2v3TeUE+7D+79Ji/10bsP7v0mL/XRuw/XNnnkJpg7D9c2eeQmmDsPzzQrNYwaew/PNCs1jBp7D/9vTZiXXrsP/29NmJdeuw/nqKFMyCU7D+eooUzIJTsP36ZSnm2nOw/fplKebac7D8ffplKebbsPx9+mUp5tuw/4Gsj1qXH7D/gayPWpcfsP6BZrWHS2Ow/oFmtYdLY7D9hRzft/unsP2FHN+3+6ew/QT78MpXy7D9BPvwylfLsP+IiSwRYDO0/4iJLBFgM7T/DGRBK7hTtP8MZEEruFO0/oxDVj4Qd7T+jENWPhB3tPyTs6KbdP+0/JOzopt0/7T8F463sc0jtPwXjrexzSO0/psf8vTZi7T+mx/y9NmLtP2e1hkljc+0/Z7WGSWNz7T9HrEuP+XvtP0esS4/5e+0/J6MQ1Y+E7T8noxDVj4TtPwia1Romje0/CJrVGiaN7T/okJpgvJXtP+iQmmC8le0/yIdfplKe7T/Ih1+mUp7tP2lsrncVuO0/aWyudxW47T8KUf1I2NHtPwpR/UjY0e0/60fCjm7a7T/rR8KObtrtP8s+h9QE4+0/yz6H1ATj7T+rNUwam+vtP6s1TBqb6+0/jCwRYDH07T+MLBFgMfTtP2wj1qXH/O0/bCPWpcf87T9MGpvrXQXuP0wam+tdBe4/LRFgMfQN7j8tEWAx9A3uP+3+6bwgH+4/7f7pvCAf7j+O4ziO4zjuP47jOI7jOO4/T9HCGRBK7j9P0cIZEEruPxC/TKU8W+4/EL9MpTxb7j/wtRHr0mPuP/C1EevSY+4/0KzWMGls7j/QrNYwaWzuPxJ2dNPun+4/EnZ00+6f7j+zWsOksbnuP7Naw6Sxue4/FS2cAaHk7j8VLZwBoeTuP7YR69Jj/u4/thHr0mP+7j93/3RekA/vP3f/dF6QD+8/V/Y5pCYY7z9X9jmkJhjvP9jRTbt/Ou8/2NFNu3867z+5yBIBFkPvP7nIEgEWQ+8/mb/XRqxL7z+Zv9dGrEvvPxqb610Fbu8/GpvrXQVu7z/7kbCjm3bvP/uRsKObdu8/24h16TF/7z/biHXpMX/vP7t/Oi/Ih+8/u386L8iH7z+cdv90XpDvP5x2/3RekO8/XGSJAIuh7z9cZIkAi6HvPz1bTkYhqu8/PVtORiGq7z/9SNjRTbvvP/1I2NFNu+8/ni0noxDV7z+eLSejENXvP18bsS495u8/XxuxLj3m7z8/EnZ00+7vPz8SdnTT7u8/AAAAAAAA8D8AAAAAAADwPw==",
          "dtype": "f8"
         },
         "y": {
          "bdata": "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",
          "dtype": "f8"
         }
        },
        {
         "line": {
          "color": "gray",
          "dash": "dash"
         },
         "mode": "lines",
         "name": "Random (y = x)",
         "type": "scatter",
         "x": {
          "bdata": "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",
          "dtype": "f8"
         },
         "y": {
          "bdata": "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",
          "dtype": "f8"
         }
        },
        {
         "fill": "tonexty",
         "fillcolor": "rgba(0,255,0,0.2)",
         "mode": "none",
         "name": "Above y = x",
         "type": "scatter",
         "x": {
          "bdata": "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",
          "dtype": "f8"
         },
         "y": {
          "bdata": "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",
          "dtype": "f8"
         }
        }
       ],
       "layout": {
        "height": 500,
        "template": {
         "data": {
          "bar": [
           {
            "error_x": {
             "color": "#f2f5fa"
            },
            "error_y": {
             "color": "#f2f5fa"
            },
            "marker": {
             "line": {
              "color": "rgb(17,17,17)",
              "width": 0.5
             },
             "pattern": {
              "fillmode": "overlay",
              "size": 10,
              "solidity": 0.2
             }
            },
            "type": "bar"
           }
          ],
          "barpolar": [
           {
            "marker": {
             "line": {
              "color": "rgb(17,17,17)",
              "width": 0.5
             },
             "pattern": {
              "fillmode": "overlay",
              "size": 10,
              "solidity": 0.2
             }
            },
            "type": "barpolar"
           }
          ],
          "carpet": [
           {
            "aaxis": {
             "endlinecolor": "#A2B1C6",
             "gridcolor": "#506784",
             "linecolor": "#506784",
             "minorgridcolor": "#506784",
             "startlinecolor": "#A2B1C6"
            },
            "baxis": {
             "endlinecolor": "#A2B1C6",
             "gridcolor": "#506784",
             "linecolor": "#506784",
             "minorgridcolor": "#506784",
             "startlinecolor": "#A2B1C6"
            },
            "type": "carpet"
           }
          ],
          "choropleth": [
           {
            "colorbar": {
             "outlinewidth": 0,
             "ticks": ""
            },
            "type": "choropleth"
           }
          ],
          "contour": [
           {
            "colorbar": {
             "outlinewidth": 0,
             "ticks": ""
            },
            "colorscale": [
             [
              0,
              "#0d0887"
             ],
             [
              0.1111111111111111,
              "#46039f"
             ],
             [
              0.2222222222222222,
              "#7201a8"
             ],
             [
              0.3333333333333333,
              "#9c179e"
             ],
             [
              0.4444444444444444,
              "#bd3786"
             ],
             [
              0.5555555555555556,
              "#d8576b"
             ],
             [
              0.6666666666666666,
              "#ed7953"
             ],
             [
              0.7777777777777778,
              "#fb9f3a"
             ],
             [
              0.8888888888888888,
              "#fdca26"
             ],
             [
              1,
              "#f0f921"
             ]
            ],
            "type": "contour"
           }
          ],
          "contourcarpet": [
           {
            "colorbar": {
             "outlinewidth": 0,
             "ticks": ""
            },
            "type": "contourcarpet"
           }
          ],
          "heatmap": [
           {
            "colorbar": {
             "outlinewidth": 0,
             "ticks": ""
            },
            "colorscale": [
             [
              0,
              "#0d0887"
             ],
             [
              0.1111111111111111,
              "#46039f"
             ],
             [
              0.2222222222222222,
              "#7201a8"
             ],
             [
              0.3333333333333333,
              "#9c179e"
             ],
             [
              0.4444444444444444,
              "#bd3786"
             ],
             [
              0.5555555555555556,
              "#d8576b"
             ],
             [
              0.6666666666666666,
              "#ed7953"
             ],
             [
              0.7777777777777778,
              "#fb9f3a"
             ],
             [
              0.8888888888888888,
              "#fdca26"
             ],
             [
              1,
              "#f0f921"
             ]
            ],
            "type": "heatmap"
           }
          ],
          "histogram": [
           {
            "marker": {
             "pattern": {
              "fillmode": "overlay",
              "size": 10,
              "solidity": 0.2
             }
            },
            "type": "histogram"
           }
          ],
          "histogram2d": [
           {
            "colorbar": {
             "outlinewidth": 0,
             "ticks": ""
            },
            "colorscale": [
             [
              0,
              "#0d0887"
             ],
             [
              0.1111111111111111,
              "#46039f"
             ],
             [
              0.2222222222222222,
              "#7201a8"
             ],
             [
              0.3333333333333333,
              "#9c179e"
             ],
             [
              0.4444444444444444,
              "#bd3786"
             ],
             [
              0.5555555555555556,
              "#d8576b"
             ],
             [
              0.6666666666666666,
              "#ed7953"
             ],
             [
              0.7777777777777778,
              "#fb9f3a"
             ],
             [
              0.8888888888888888,
              "#fdca26"
             ],
             [
              1,
              "#f0f921"
             ]
            ],
            "type": "histogram2d"
           }
          ],
          "histogram2dcontour": [
           {
            "colorbar": {
             "outlinewidth": 0,
             "ticks": ""
            },
            "colorscale": [
             [
              0,
              "#0d0887"
             ],
             [
              0.1111111111111111,
              "#46039f"
             ],
             [
              0.2222222222222222,
              "#7201a8"
             ],
             [
              0.3333333333333333,
              "#9c179e"
             ],
             [
              0.4444444444444444,
              "#bd3786"
             ],
             [
              0.5555555555555556,
              "#d8576b"
             ],
             [
              0.6666666666666666,
              "#ed7953"
             ],
             [
              0.7777777777777778,
              "#fb9f3a"
             ],
             [
              0.8888888888888888,
              "#fdca26"
             ],
             [
              1,
              "#f0f921"
             ]
            ],
            "type": "histogram2dcontour"
           }
          ],
          "mesh3d": [
           {
            "colorbar": {
             "outlinewidth": 0,
             "ticks": ""
            },
            "type": "mesh3d"
           }
          ],
          "parcoords": [
           {
            "line": {
             "colorbar": {
              "outlinewidth": 0,
              "ticks": ""
             }
            },
            "type": "parcoords"
           }
          ],
          "pie": [
           {
            "automargin": true,
            "type": "pie"
           }
          ],
          "scatter": [
           {
            "marker": {
             "line": {
              "color": "#283442"
             }
            },
            "type": "scatter"
           }
          ],
          "scatter3d": [
           {
            "line": {
             "colorbar": {
              "outlinewidth": 0,
              "ticks": ""
             }
            },
            "marker": {
             "colorbar": {
              "outlinewidth": 0,
              "ticks": ""
             }
            },
            "type": "scatter3d"
           }
          ],
          "scattercarpet": [
           {
            "marker": {
             "colorbar": {
              "outlinewidth": 0,
              "ticks": ""
             }
            },
            "type": "scattercarpet"
           }
          ],
          "scattergeo": [
           {
            "marker": {
             "colorbar": {
              "outlinewidth": 0,
              "ticks": ""
             }
            },
            "type": "scattergeo"
           }
          ],
          "scattergl": [
           {
            "marker": {
             "line": {
              "color": "#283442"
             }
            },
            "type": "scattergl"
           }
          ],
          "scattermap": [
           {
            "marker": {
             "colorbar": {
              "outlinewidth": 0,
              "ticks": ""
             }
            },
            "type": "scattermap"
           }
          ],
          "scattermapbox": [
           {
            "marker": {
             "colorbar": {
              "outlinewidth": 0,
              "ticks": ""
             }
            },
            "type": "scattermapbox"
           }
          ],
          "scatterpolar": [
           {
            "marker": {
             "colorbar": {
              "outlinewidth": 0,
              "ticks": ""
             }
            },
            "type": "scatterpolar"
           }
          ],
          "scatterpolargl": [
           {
            "marker": {
             "colorbar": {
              "outlinewidth": 0,
              "ticks": ""
             }
            },
            "type": "scatterpolargl"
           }
          ],
          "scatterternary": [
           {
            "marker": {
             "colorbar": {
              "outlinewidth": 0,
              "ticks": ""
             }
            },
            "type": "scatterternary"
           }
          ],
          "surface": [
           {
            "colorbar": {
             "outlinewidth": 0,
             "ticks": ""
            },
            "colorscale": [
             [
              0,
              "#0d0887"
             ],
             [
              0.1111111111111111,
              "#46039f"
             ],
             [
              0.2222222222222222,
              "#7201a8"
             ],
             [
              0.3333333333333333,
              "#9c179e"
             ],
             [
              0.4444444444444444,
              "#bd3786"
             ],
             [
              0.5555555555555556,
              "#d8576b"
             ],
             [
              0.6666666666666666,
              "#ed7953"
             ],
             [
              0.7777777777777778,
              "#fb9f3a"
             ],
             [
              0.8888888888888888,
              "#fdca26"
             ],
             [
              1,
              "#f0f921"
             ]
            ],
            "type": "surface"
           }
          ],
          "table": [
           {
            "cells": {
             "fill": {
              "color": "#506784"
             },
             "line": {
              "color": "rgb(17,17,17)"
             }
            },
            "header": {
             "fill": {
              "color": "#2a3f5f"
             },
             "line": {
              "color": "rgb(17,17,17)"
             }
            },
            "type": "table"
           }
          ]
         },
         "layout": {
          "annotationdefaults": {
           "arrowcolor": "#f2f5fa",
           "arrowhead": 0,
           "arrowwidth": 1
          },
          "autotypenumbers": "strict",
          "coloraxis": {
           "colorbar": {
            "outlinewidth": 0,
            "ticks": ""
           }
          },
          "colorscale": {
           "diverging": [
            [
             0,
             "#8e0152"
            ],
            [
             0.1,
             "#c51b7d"
            ],
            [
             0.2,
             "#de77ae"
            ],
            [
             0.3,
             "#f1b6da"
            ],
            [
             0.4,
             "#fde0ef"
            ],
            [
             0.5,
             "#f7f7f7"
            ],
            [
             0.6,
             "#e6f5d0"
            ],
            [
             0.7,
             "#b8e186"
            ],
            [
             0.8,
             "#7fbc41"
            ],
            [
             0.9,
             "#4d9221"
            ],
            [
             1,
             "#276419"
            ]
           ],
           "sequential": [
            [
             0,
             "#0d0887"
            ],
            [
             0.1111111111111111,
             "#46039f"
            ],
            [
             0.2222222222222222,
             "#7201a8"
            ],
            [
             0.3333333333333333,
             "#9c179e"
            ],
            [
             0.4444444444444444,
             "#bd3786"
            ],
            [
             0.5555555555555556,
             "#d8576b"
            ],
            [
             0.6666666666666666,
             "#ed7953"
            ],
            [
             0.7777777777777778,
             "#fb9f3a"
            ],
            [
             0.8888888888888888,
             "#fdca26"
            ],
            [
             1,
             "#f0f921"
            ]
           ],
           "sequentialminus": [
            [
             0,
             "#0d0887"
            ],
            [
             0.1111111111111111,
             "#46039f"
            ],
            [
             0.2222222222222222,
             "#7201a8"
            ],
            [
             0.3333333333333333,
             "#9c179e"
            ],
            [
             0.4444444444444444,
             "#bd3786"
            ],
            [
             0.5555555555555556,
             "#d8576b"
            ],
            [
             0.6666666666666666,
             "#ed7953"
            ],
            [
             0.7777777777777778,
             "#fb9f3a"
            ],
            [
             0.8888888888888888,
             "#fdca26"
            ],
            [
             1,
             "#f0f921"
            ]
           ]
          },
          "colorway": [
           "#636efa",
           "#EF553B",
           "#00cc96",
           "#ab63fa",
           "#FFA15A",
           "#19d3f3",
           "#FF6692",
           "#B6E880",
           "#FF97FF",
           "#FECB52"
          ],
          "font": {
           "color": "#f2f5fa"
          },
          "geo": {
           "bgcolor": "rgb(17,17,17)",
           "lakecolor": "rgb(17,17,17)",
           "landcolor": "rgb(17,17,17)",
           "showlakes": true,
           "showland": true,
           "subunitcolor": "#506784"
          },
          "hoverlabel": {
           "align": "left"
          },
          "hovermode": "closest",
          "mapbox": {
           "style": "dark"
          },
          "paper_bgcolor": "rgb(17,17,17)",
          "plot_bgcolor": "rgb(17,17,17)",
          "polar": {
           "angularaxis": {
            "gridcolor": "#506784",
            "linecolor": "#506784",
            "ticks": ""
           },
           "bgcolor": "rgb(17,17,17)",
           "radialaxis": {
            "gridcolor": "#506784",
            "linecolor": "#506784",
            "ticks": ""
           }
          },
          "scene": {
           "xaxis": {
            "backgroundcolor": "rgb(17,17,17)",
            "gridcolor": "#506784",
            "gridwidth": 2,
            "linecolor": "#506784",
            "showbackground": true,
            "ticks": "",
            "zerolinecolor": "#C8D4E3"
           },
           "yaxis": {
            "backgroundcolor": "rgb(17,17,17)",
            "gridcolor": "#506784",
            "gridwidth": 2,
            "linecolor": "#506784",
            "showbackground": true,
            "ticks": "",
            "zerolinecolor": "#C8D4E3"
           },
           "zaxis": {
            "backgroundcolor": "rgb(17,17,17)",
            "gridcolor": "#506784",
            "gridwidth": 2,
            "linecolor": "#506784",
            "showbackground": true,
            "ticks": "",
            "zerolinecolor": "#C8D4E3"
           }
          },
          "shapedefaults": {
           "line": {
            "color": "#f2f5fa"
           }
          },
          "sliderdefaults": {
           "bgcolor": "#C8D4E3",
           "bordercolor": "rgb(17,17,17)",
           "borderwidth": 1,
           "tickwidth": 0
          },
          "ternary": {
           "aaxis": {
            "gridcolor": "#506784",
            "linecolor": "#506784",
            "ticks": ""
           },
           "baxis": {
            "gridcolor": "#506784",
            "linecolor": "#506784",
            "ticks": ""
           },
           "bgcolor": "rgb(17,17,17)",
           "caxis": {
            "gridcolor": "#506784",
            "linecolor": "#506784",
            "ticks": ""
           }
          },
          "title": {
           "x": 0.05
          },
          "updatemenudefaults": {
           "bgcolor": "#506784",
           "borderwidth": 0
          },
          "xaxis": {
           "automargin": true,
           "gridcolor": "#283442",
           "linecolor": "#506784",
           "ticks": "",
           "title": {
            "standoff": 15
           },
           "zerolinecolor": "#283442",
           "zerolinewidth": 2
          },
          "yaxis": {
           "automargin": true,
           "gridcolor": "#283442",
           "linecolor": "#506784",
           "ticks": "",
           "title": {
            "standoff": 15
           },
           "zerolinecolor": "#283442",
           "zerolinewidth": 2
          }
         }
        },
        "title": {
         "text": "ROC Curve with Shaded Performance (plotly_dark)"
        },
        "width": 700,
        "xaxis": {
         "title": {
          "text": "False Positive Rate"
         }
        },
        "yaxis": {
         "title": {
          "text": "True Positive Rate"
         }
        }
       }
      }
     },
     "metadata": {},
     "output_type": "display_data"
    }
   ],
   "source": [
    "import plotly.graph_objects as go\n",
    "from sklearn.metrics import roc_curve\n",
    "\n",
    "# Get ROC data\n",
    "# fpr, tpr, _ = roc_curve(y_true, y_score)  # Replace with your arrays\n",
    "\n",
    "# Create y = x baseline\n",
    "diagonal = fpr  # Since fpr goes from 0 to 1\n",
    "\n",
    "# Create figure\n",
    "fig = go.Figure()\n",
    "\n",
    "# ROC curve\n",
    "fig.add_trace(go.Scatter(\n",
    "    x=fpr,\n",
    "    y=tpr,\n",
    "    mode='lines',\n",
    "    name='Model ROC',\n",
    "    line=dict(color='cyan')\n",
    "))\n",
    "\n",
    "# y = x line\n",
    "fig.add_trace(go.Scatter(\n",
    "    x=fpr,\n",
    "    y=diagonal,\n",
    "    mode='lines',\n",
    "    name='Random (y = x)',\n",
    "    line=dict(dash='dash', color='gray')\n",
    "))\n",
    "\n",
    "# Shaded: Where ROC is above random\n",
    "fig.add_trace(go.Scatter(\n",
    "    x=fpr,\n",
    "    y=diagonal,\n",
    "    fill='tonexty',\n",
    "    mode='none',\n",
    "    name='Above y = x',\n",
    "    fillcolor='rgba(0,255,0,0.2)'\n",
    "))\n",
    "\n",
    "fig.update_layout(\n",
    "    title='ROC Curve with Shaded Performance (plotly_dark)',\n",
    "    xaxis_title='False Positive Rate',\n",
    "    yaxis_title='True Positive Rate',\n",
    "    template='plotly_dark',\n",
    "    width=700,\n",
    "    height=500\n",
    ")\n",
    "\n",
    "fig.show()\n"
   ]
  },
  {
   "cell_type": "code",
   "execution_count": 96,
   "id": "3fa62800",
   "metadata": {},
   "outputs": [
    {
     "name": "stdout",
     "output_type": "stream",
     "text": [
      "AUC Score: 0.49788151729058694\n"
     ]
    }
   ],
   "source": [
    "from sklearn.metrics import roc_auc_score\n",
    "\n",
    "# y_scores = your model's predicted probabilities for class 1\n",
    "# Make sure it's a numpy array or list\n",
    "print(\"AUC Score:\", roc_auc_score(Y_test, Y_scores))\n"
   ]
  },
  {
   "cell_type": "code",
   "execution_count": 97,
   "id": "e4c66983",
   "metadata": {},
   "outputs": [
    {
     "name": "stdout",
     "output_type": "stream",
     "text": [
      "Min score: 0.2443045227584797\n",
      "Max score: 0.7959745030635179\n",
      "Mean score: 0.47124858556251936\n"
     ]
    }
   ],
   "source": [
    "print(\"Min score:\", np.min(Y_scores))\n",
    "print(\"Max score:\", np.max(Y_scores))\n",
    "print(\"Mean score:\", np.mean(Y_scores))\n"
   ]
  },
  {
   "cell_type": "markdown",
   "id": "a9912470",
   "metadata": {},
   "source": [
    "### Changelog"
   ]
  },
  {
   "cell_type": "markdown",
   "id": "af4115a3",
   "metadata": {},
   "source": [
    "Past\n",
    " - Made QML VQC for cracking PQC, got accuracy 65%\n",
    "\n",
    "6/18/25\n",
    " - Setup overnight runs, BCE failed because my model has low confidence. (Only switch to BCE when optimal weights logged)\n",
    " - Cost wobbles at end\n",
    " - Accuracy 24% (a.k.a 76% with flipped labels) to 70% in overnight runs; model signaling of peak performance\n",
    "\n",
    "6/19/25\n",
    " - Implemented cloudpickle weight-logging; the normal weight-logging system logged the last weights because of auto-updates (which in our case isn’t a feature because we want to freeze the weights in time)\n",
    " - Added CPU optimization\n",
    " - **Criticism of paper** Implemented RNG seeds for reproducibility, though the RNG seed variation in real world encryption schemes makes realist implementation difficult, which is why the accuracy is worsened (closer to 50%) when testing on re-generated datasets.\n",
    "   - There is an argument that an message'll be encrypted using the same dataset and so this may give us an advantage depending on implementation. Real architectures are more likely to use true cryptographic randomness, however.\n",
    "   - The model should be tested with consistent RNG seeds accross `pqc-math-sim.cpp` and `experiments-2.ipynb` to test whether the model is learning past  quirks of mathematical interactions with the key.\n",
    "     - However, the model, in real world scenarios, could be used to memorize quirks of 1 key if trained as such.\n",
    " - TODO: calcultae bayesian limit, digitize BCE notes and other notes, overnight run again\n",
    "   - Add a section like \"This model is most generealizable when {Implementation of LWE like this}\"\n",
    " - TO include in paper:\n",
    "   - Our VQC consistently outperforms classical models such as XGBoost\n",
    "   - 70% (regular and inverted) = Eval on same dataset with same key\n",
    "   - 54-inverted% and 60% = Eval with different RNG (partial generalization)\n",
    "   - 64-inverted% and 62% = Different RNG, Different Key\n",
    "   - **Also include old sep evaluations that lead to conclusion 2-layered MSE as best**\n",
    "\n",
    "6/20/25\n",
    " - TO Include in paper: \n",
    "   - Got 24%(76-inverted) to 74%. QML, especially VQC, is more fragile than classical ML, but outperforms it.\n",
    "   - The accuracy decrease on increased iterations (past evaluations) isn't because of luck being eliminated. The circuit gets tired or something. Because 50 iters and consistently getting same accuracy on data generated under same conditions still has a point.\n",
    "   - Preventing circuit getting tired is like future thing. Not my research's focus for now. Maybe one line suggesting `time.sleep()` that sounds fancy (or hardware fatigue?)\n",
    " - Know what I need to do to make this a fire paper, don't wanna do it\n",
    "\n",
    "6/21/25\n",
    "  - Included ROC/AUC, testing over iterations reveal 80% peak accuracy on 20 samples, with accuracy reducing to 50% on increased samples\n",
    "  - TODO: Attempt to hack the iteration sample thing to attempt to show 80% accuracy accross entire dataset by splitting it (the circuit gets tired)\n",
    "  - TODO: Reccomended t-SNE, weight loading, hybrid BCE/MSE based on how strong confidence is to build model confidence\n",
    "  - Include in paper: 70% accuracy, but ROC/AUC reflect 50% accuracy seen in later iters. Could temporary shoots of accuracy be due to lucky batches?\n",
    "    - No. We continously test randomly, pulling 50 samples out of 2000 samples.\n",
    "  - *TL;DR* There is something weird going on"
   ]
  }
 ],
 "metadata": {
  "kernelspec": {
   "display_name": "Python 3",
   "language": "python",
   "name": "python3"
  },
  "language_info": {
   "codemirror_mode": {
    "name": "ipython",
    "version": 3
   },
   "file_extension": ".py",
   "mimetype": "text/x-python",
   "name": "python",
   "nbconvert_exporter": "python",
   "pygments_lexer": "ipython3",
   "version": "3.11.9"
  }
 },
 "nbformat": 4,
 "nbformat_minor": 5
}
